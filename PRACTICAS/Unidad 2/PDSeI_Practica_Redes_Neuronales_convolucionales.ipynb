{
  "nbformat": 4,
  "nbformat_minor": 0,
  "metadata": {
    "colab": {
      "provenance": [],
      "gpuType": "T4"
    },
    "kernelspec": {
      "name": "python3",
      "display_name": "Python 3"
    },
    "language_info": {
      "name": "python"
    },
    "accelerator": "GPU"
  },
  "cells": [
    {
      "cell_type": "markdown",
      "source": [
        "# PDSeI - Redes Neuronales convolucionales"
      ],
      "metadata": {
        "id": "GUsPHLdBxSRw"
      }
    },
    {
      "cell_type": "markdown",
      "source": [
        "# Integrantes:\n",
        "\n",
        "1. Calderón Alvarado, Jeremy Lorenzo\n",
        "\n",
        "2. Carrillo Guevara, Abigail Bibiana\n",
        "\n",
        "3. Condor Flores, César Emilio\n"
      ],
      "metadata": {
        "id": "e12va4AuBAwP"
      }
    },
    {
      "cell_type": "markdown",
      "source": [
        "Base de datos: https://www.kaggle.com/datasets/datamunge/sign-language-mnist"
      ],
      "metadata": {
        "id": "4O7k57BmxLpb"
      }
    },
    {
      "cell_type": "markdown",
      "source": [
        "# Conexión con kaggle"
      ],
      "metadata": {
        "id": "Opz_vo0nS4E_"
      }
    },
    {
      "cell_type": "markdown",
      "source": [
        "# Instalaciones previas"
      ],
      "metadata": {
        "id": "vTz3kNbXw-eA"
      }
    },
    {
      "cell_type": "code",
      "source": [
        "!pip install -q kaggle\n",
        "!pip install -q scikeras"
      ],
      "metadata": {
        "id": "jOrfBw5yWH0B"
      },
      "execution_count": null,
      "outputs": []
    },
    {
      "cell_type": "code",
      "source": [
        "from google.colab import files\n",
        "import pandas as pd\n",
        "import matplotlib.pyplot as plt\n",
        "\n",
        "files.upload()"
      ],
      "metadata": {
        "colab": {
          "base_uri": "https://localhost:8080/",
          "height": 342
        },
        "id": "h1oJ40K-YGW1",
        "outputId": "4e81447f-188c-4401-9eba-7e8d58ad6864"
      },
      "execution_count": null,
      "outputs": [
        {
          "output_type": "display_data",
          "data": {
            "text/plain": [
              "<IPython.core.display.HTML object>"
            ],
            "text/html": [
              "\n",
              "     <input type=\"file\" id=\"files-fccb5d47-b5ae-47a9-969b-d1420168b744\" name=\"files[]\" multiple disabled\n",
              "        style=\"border:none\" />\n",
              "     <output id=\"result-fccb5d47-b5ae-47a9-969b-d1420168b744\">\n",
              "      Upload widget is only available when the cell has been executed in the\n",
              "      current browser session. Please rerun this cell to enable.\n",
              "      </output>\n",
              "      <script>// Copyright 2017 Google LLC\n",
              "//\n",
              "// Licensed under the Apache License, Version 2.0 (the \"License\");\n",
              "// you may not use this file except in compliance with the License.\n",
              "// You may obtain a copy of the License at\n",
              "//\n",
              "//      http://www.apache.org/licenses/LICENSE-2.0\n",
              "//\n",
              "// Unless required by applicable law or agreed to in writing, software\n",
              "// distributed under the License is distributed on an \"AS IS\" BASIS,\n",
              "// WITHOUT WARRANTIES OR CONDITIONS OF ANY KIND, either express or implied.\n",
              "// See the License for the specific language governing permissions and\n",
              "// limitations under the License.\n",
              "\n",
              "/**\n",
              " * @fileoverview Helpers for google.colab Python module.\n",
              " */\n",
              "(function(scope) {\n",
              "function span(text, styleAttributes = {}) {\n",
              "  const element = document.createElement('span');\n",
              "  element.textContent = text;\n",
              "  for (const key of Object.keys(styleAttributes)) {\n",
              "    element.style[key] = styleAttributes[key];\n",
              "  }\n",
              "  return element;\n",
              "}\n",
              "\n",
              "// Max number of bytes which will be uploaded at a time.\n",
              "const MAX_PAYLOAD_SIZE = 100 * 1024;\n",
              "\n",
              "function _uploadFiles(inputId, outputId) {\n",
              "  const steps = uploadFilesStep(inputId, outputId);\n",
              "  const outputElement = document.getElementById(outputId);\n",
              "  // Cache steps on the outputElement to make it available for the next call\n",
              "  // to uploadFilesContinue from Python.\n",
              "  outputElement.steps = steps;\n",
              "\n",
              "  return _uploadFilesContinue(outputId);\n",
              "}\n",
              "\n",
              "// This is roughly an async generator (not supported in the browser yet),\n",
              "// where there are multiple asynchronous steps and the Python side is going\n",
              "// to poll for completion of each step.\n",
              "// This uses a Promise to block the python side on completion of each step,\n",
              "// then passes the result of the previous step as the input to the next step.\n",
              "function _uploadFilesContinue(outputId) {\n",
              "  const outputElement = document.getElementById(outputId);\n",
              "  const steps = outputElement.steps;\n",
              "\n",
              "  const next = steps.next(outputElement.lastPromiseValue);\n",
              "  return Promise.resolve(next.value.promise).then((value) => {\n",
              "    // Cache the last promise value to make it available to the next\n",
              "    // step of the generator.\n",
              "    outputElement.lastPromiseValue = value;\n",
              "    return next.value.response;\n",
              "  });\n",
              "}\n",
              "\n",
              "/**\n",
              " * Generator function which is called between each async step of the upload\n",
              " * process.\n",
              " * @param {string} inputId Element ID of the input file picker element.\n",
              " * @param {string} outputId Element ID of the output display.\n",
              " * @return {!Iterable<!Object>} Iterable of next steps.\n",
              " */\n",
              "function* uploadFilesStep(inputId, outputId) {\n",
              "  const inputElement = document.getElementById(inputId);\n",
              "  inputElement.disabled = false;\n",
              "\n",
              "  const outputElement = document.getElementById(outputId);\n",
              "  outputElement.innerHTML = '';\n",
              "\n",
              "  const pickedPromise = new Promise((resolve) => {\n",
              "    inputElement.addEventListener('change', (e) => {\n",
              "      resolve(e.target.files);\n",
              "    });\n",
              "  });\n",
              "\n",
              "  const cancel = document.createElement('button');\n",
              "  inputElement.parentElement.appendChild(cancel);\n",
              "  cancel.textContent = 'Cancel upload';\n",
              "  const cancelPromise = new Promise((resolve) => {\n",
              "    cancel.onclick = () => {\n",
              "      resolve(null);\n",
              "    };\n",
              "  });\n",
              "\n",
              "  // Wait for the user to pick the files.\n",
              "  const files = yield {\n",
              "    promise: Promise.race([pickedPromise, cancelPromise]),\n",
              "    response: {\n",
              "      action: 'starting',\n",
              "    }\n",
              "  };\n",
              "\n",
              "  cancel.remove();\n",
              "\n",
              "  // Disable the input element since further picks are not allowed.\n",
              "  inputElement.disabled = true;\n",
              "\n",
              "  if (!files) {\n",
              "    return {\n",
              "      response: {\n",
              "        action: 'complete',\n",
              "      }\n",
              "    };\n",
              "  }\n",
              "\n",
              "  for (const file of files) {\n",
              "    const li = document.createElement('li');\n",
              "    li.append(span(file.name, {fontWeight: 'bold'}));\n",
              "    li.append(span(\n",
              "        `(${file.type || 'n/a'}) - ${file.size} bytes, ` +\n",
              "        `last modified: ${\n",
              "            file.lastModifiedDate ? file.lastModifiedDate.toLocaleDateString() :\n",
              "                                    'n/a'} - `));\n",
              "    const percent = span('0% done');\n",
              "    li.appendChild(percent);\n",
              "\n",
              "    outputElement.appendChild(li);\n",
              "\n",
              "    const fileDataPromise = new Promise((resolve) => {\n",
              "      const reader = new FileReader();\n",
              "      reader.onload = (e) => {\n",
              "        resolve(e.target.result);\n",
              "      };\n",
              "      reader.readAsArrayBuffer(file);\n",
              "    });\n",
              "    // Wait for the data to be ready.\n",
              "    let fileData = yield {\n",
              "      promise: fileDataPromise,\n",
              "      response: {\n",
              "        action: 'continue',\n",
              "      }\n",
              "    };\n",
              "\n",
              "    // Use a chunked sending to avoid message size limits. See b/62115660.\n",
              "    let position = 0;\n",
              "    do {\n",
              "      const length = Math.min(fileData.byteLength - position, MAX_PAYLOAD_SIZE);\n",
              "      const chunk = new Uint8Array(fileData, position, length);\n",
              "      position += length;\n",
              "\n",
              "      const base64 = btoa(String.fromCharCode.apply(null, chunk));\n",
              "      yield {\n",
              "        response: {\n",
              "          action: 'append',\n",
              "          file: file.name,\n",
              "          data: base64,\n",
              "        },\n",
              "      };\n",
              "\n",
              "      let percentDone = fileData.byteLength === 0 ?\n",
              "          100 :\n",
              "          Math.round((position / fileData.byteLength) * 100);\n",
              "      percent.textContent = `${percentDone}% done`;\n",
              "\n",
              "    } while (position < fileData.byteLength);\n",
              "  }\n",
              "\n",
              "  // All done.\n",
              "  yield {\n",
              "    response: {\n",
              "      action: 'complete',\n",
              "    }\n",
              "  };\n",
              "}\n",
              "\n",
              "scope.google = scope.google || {};\n",
              "scope.google.colab = scope.google.colab || {};\n",
              "scope.google.colab._files = {\n",
              "  _uploadFiles,\n",
              "  _uploadFilesContinue,\n",
              "};\n",
              "})(self);\n",
              "</script> "
            ]
          },
          "metadata": {}
        },
        {
          "output_type": "error",
          "ename": "KeyboardInterrupt",
          "evalue": "",
          "traceback": [
            "\u001b[0;31m---------------------------------------------------------------------------\u001b[0m",
            "\u001b[0;31mKeyboardInterrupt\u001b[0m                         Traceback (most recent call last)",
            "\u001b[0;32m<ipython-input-2-842b78730c5d>\u001b[0m in \u001b[0;36m<cell line: 5>\u001b[0;34m()\u001b[0m\n\u001b[1;32m      3\u001b[0m \u001b[0;32mimport\u001b[0m \u001b[0mmatplotlib\u001b[0m\u001b[0;34m.\u001b[0m\u001b[0mpyplot\u001b[0m \u001b[0;32mas\u001b[0m \u001b[0mplt\u001b[0m\u001b[0;34m\u001b[0m\u001b[0;34m\u001b[0m\u001b[0m\n\u001b[1;32m      4\u001b[0m \u001b[0;34m\u001b[0m\u001b[0m\n\u001b[0;32m----> 5\u001b[0;31m \u001b[0mfiles\u001b[0m\u001b[0;34m.\u001b[0m\u001b[0mupload\u001b[0m\u001b[0;34m(\u001b[0m\u001b[0;34m)\u001b[0m\u001b[0;34m\u001b[0m\u001b[0;34m\u001b[0m\u001b[0m\n\u001b[0m",
            "\u001b[0;32m/usr/local/lib/python3.10/dist-packages/google/colab/files.py\u001b[0m in \u001b[0;36mupload\u001b[0;34m(target_dir)\u001b[0m\n\u001b[1;32m     70\u001b[0m   \"\"\"\n\u001b[1;32m     71\u001b[0m \u001b[0;34m\u001b[0m\u001b[0m\n\u001b[0;32m---> 72\u001b[0;31m   \u001b[0muploaded_files\u001b[0m \u001b[0;34m=\u001b[0m \u001b[0m_upload_files\u001b[0m\u001b[0;34m(\u001b[0m\u001b[0mmultiple\u001b[0m\u001b[0;34m=\u001b[0m\u001b[0;32mTrue\u001b[0m\u001b[0;34m)\u001b[0m\u001b[0;34m\u001b[0m\u001b[0;34m\u001b[0m\u001b[0m\n\u001b[0m\u001b[1;32m     73\u001b[0m   \u001b[0;31m# Mapping from original filename to filename as saved locally.\u001b[0m\u001b[0;34m\u001b[0m\u001b[0;34m\u001b[0m\u001b[0m\n\u001b[1;32m     74\u001b[0m   \u001b[0mlocal_filenames\u001b[0m \u001b[0;34m=\u001b[0m \u001b[0mdict\u001b[0m\u001b[0;34m(\u001b[0m\u001b[0;34m)\u001b[0m\u001b[0;34m\u001b[0m\u001b[0;34m\u001b[0m\u001b[0m\n",
            "\u001b[0;32m/usr/local/lib/python3.10/dist-packages/google/colab/files.py\u001b[0m in \u001b[0;36m_upload_files\u001b[0;34m(multiple)\u001b[0m\n\u001b[1;32m    162\u001b[0m \u001b[0;34m\u001b[0m\u001b[0m\n\u001b[1;32m    163\u001b[0m   \u001b[0;31m# First result is always an indication that the file picker has completed.\u001b[0m\u001b[0;34m\u001b[0m\u001b[0;34m\u001b[0m\u001b[0m\n\u001b[0;32m--> 164\u001b[0;31m   result = _output.eval_js(\n\u001b[0m\u001b[1;32m    165\u001b[0m       'google.colab._files._uploadFiles(\"{input_id}\", \"{output_id}\")'.format(\n\u001b[1;32m    166\u001b[0m           \u001b[0minput_id\u001b[0m\u001b[0;34m=\u001b[0m\u001b[0minput_id\u001b[0m\u001b[0;34m,\u001b[0m \u001b[0moutput_id\u001b[0m\u001b[0;34m=\u001b[0m\u001b[0moutput_id\u001b[0m\u001b[0;34m\u001b[0m\u001b[0;34m\u001b[0m\u001b[0m\n",
            "\u001b[0;32m/usr/local/lib/python3.10/dist-packages/google/colab/output/_js.py\u001b[0m in \u001b[0;36meval_js\u001b[0;34m(script, ignore_result, timeout_sec)\u001b[0m\n\u001b[1;32m     38\u001b[0m   \u001b[0;32mif\u001b[0m \u001b[0mignore_result\u001b[0m\u001b[0;34m:\u001b[0m\u001b[0;34m\u001b[0m\u001b[0;34m\u001b[0m\u001b[0m\n\u001b[1;32m     39\u001b[0m     \u001b[0;32mreturn\u001b[0m\u001b[0;34m\u001b[0m\u001b[0;34m\u001b[0m\u001b[0m\n\u001b[0;32m---> 40\u001b[0;31m   \u001b[0;32mreturn\u001b[0m \u001b[0m_message\u001b[0m\u001b[0;34m.\u001b[0m\u001b[0mread_reply_from_input\u001b[0m\u001b[0;34m(\u001b[0m\u001b[0mrequest_id\u001b[0m\u001b[0;34m,\u001b[0m \u001b[0mtimeout_sec\u001b[0m\u001b[0;34m)\u001b[0m\u001b[0;34m\u001b[0m\u001b[0;34m\u001b[0m\u001b[0m\n\u001b[0m\u001b[1;32m     41\u001b[0m \u001b[0;34m\u001b[0m\u001b[0m\n\u001b[1;32m     42\u001b[0m \u001b[0;34m\u001b[0m\u001b[0m\n",
            "\u001b[0;32m/usr/local/lib/python3.10/dist-packages/google/colab/_message.py\u001b[0m in \u001b[0;36mread_reply_from_input\u001b[0;34m(message_id, timeout_sec)\u001b[0m\n\u001b[1;32m     94\u001b[0m     \u001b[0mreply\u001b[0m \u001b[0;34m=\u001b[0m \u001b[0m_read_next_input_message\u001b[0m\u001b[0;34m(\u001b[0m\u001b[0;34m)\u001b[0m\u001b[0;34m\u001b[0m\u001b[0;34m\u001b[0m\u001b[0m\n\u001b[1;32m     95\u001b[0m     \u001b[0;32mif\u001b[0m \u001b[0mreply\u001b[0m \u001b[0;34m==\u001b[0m \u001b[0m_NOT_READY\u001b[0m \u001b[0;32mor\u001b[0m \u001b[0;32mnot\u001b[0m \u001b[0misinstance\u001b[0m\u001b[0;34m(\u001b[0m\u001b[0mreply\u001b[0m\u001b[0;34m,\u001b[0m \u001b[0mdict\u001b[0m\u001b[0;34m)\u001b[0m\u001b[0;34m:\u001b[0m\u001b[0;34m\u001b[0m\u001b[0;34m\u001b[0m\u001b[0m\n\u001b[0;32m---> 96\u001b[0;31m       \u001b[0mtime\u001b[0m\u001b[0;34m.\u001b[0m\u001b[0msleep\u001b[0m\u001b[0;34m(\u001b[0m\u001b[0;36m0.025\u001b[0m\u001b[0;34m)\u001b[0m\u001b[0;34m\u001b[0m\u001b[0;34m\u001b[0m\u001b[0m\n\u001b[0m\u001b[1;32m     97\u001b[0m       \u001b[0;32mcontinue\u001b[0m\u001b[0;34m\u001b[0m\u001b[0;34m\u001b[0m\u001b[0m\n\u001b[1;32m     98\u001b[0m     if (\n",
            "\u001b[0;31mKeyboardInterrupt\u001b[0m: "
          ]
        }
      ]
    },
    {
      "cell_type": "markdown",
      "source": [
        "# Descargar la base de datos"
      ],
      "metadata": {
        "id": "MXc-A4NUxlLD"
      }
    },
    {
      "cell_type": "code",
      "source": [
        "!mkdir -p ~/.kaggle\n",
        "!cp kaggle.json ~/.kaggle/\n",
        "!chmod 600 ~/.kaggle/kaggle.json\n",
        "\n",
        "!kaggle datasets download -d datamunge/sign-language-mnist\n",
        "!unzip sign-language-mnist.zip"
      ],
      "metadata": {
        "colab": {
          "base_uri": "https://localhost:8080/"
        },
        "id": "7y7opwxxYBK9",
        "outputId": "deba8bbb-47e2-4ad8-e506-4b5f0bccad28"
      },
      "execution_count": null,
      "outputs": [
        {
          "output_type": "stream",
          "name": "stdout",
          "text": [
            "Dataset URL: https://www.kaggle.com/datasets/datamunge/sign-language-mnist\n",
            "License(s): CC0-1.0\n",
            "Downloading sign-language-mnist.zip to /content\n",
            " 99% 62.0M/62.6M [00:03<00:00, 24.1MB/s]\n",
            "100% 62.6M/62.6M [00:03<00:00, 17.3MB/s]\n",
            "Archive:  sign-language-mnist.zip\n",
            "  inflating: amer_sign2.png          \n",
            "  inflating: amer_sign3.png          \n",
            "  inflating: american_sign_language.PNG  \n",
            "  inflating: sign_mnist_test.csv     \n",
            "  inflating: sign_mnist_test/sign_mnist_test.csv  \n",
            "  inflating: sign_mnist_train.csv    \n",
            "  inflating: sign_mnist_train/sign_mnist_train.csv  \n"
          ]
        }
      ]
    },
    {
      "cell_type": "markdown",
      "source": [
        "# Lectura de datos"
      ],
      "metadata": {
        "id": "kZwEj6tWycJr"
      }
    },
    {
      "cell_type": "code",
      "source": [
        "train_df = pd.read_csv(\"sign_mnist_train.csv\")\n",
        "test_df = pd.read_csv(\"sign_mnist_test.csv\")"
      ],
      "metadata": {
        "id": "nhZKLtLXyMgS"
      },
      "execution_count": null,
      "outputs": []
    },
    {
      "cell_type": "code",
      "source": [
        "print(train_df.keys())"
      ],
      "metadata": {
        "colab": {
          "base_uri": "https://localhost:8080/"
        },
        "id": "WfqhnSWiyaAB",
        "outputId": "e888f5db-4a5c-4347-ec36-440f4ef1f9af"
      },
      "execution_count": null,
      "outputs": [
        {
          "output_type": "stream",
          "name": "stdout",
          "text": [
            "Index(['label', 'pixel1', 'pixel2', 'pixel3', 'pixel4', 'pixel5', 'pixel6',\n",
            "       'pixel7', 'pixel8', 'pixel9',\n",
            "       ...\n",
            "       'pixel775', 'pixel776', 'pixel777', 'pixel778', 'pixel779', 'pixel780',\n",
            "       'pixel781', 'pixel782', 'pixel783', 'pixel784'],\n",
            "      dtype='object', length=785)\n"
          ]
        }
      ]
    },
    {
      "cell_type": "code",
      "source": [
        "# Elementos por clase\n",
        "\n",
        "class_counts = train_df['label'].value_counts()\n",
        "print(class_counts)"
      ],
      "metadata": {
        "colab": {
          "base_uri": "https://localhost:8080/"
        },
        "id": "Newrs43uzQmS",
        "outputId": "5303886e-e54b-4af0-857b-a99dc98e1d17"
      },
      "execution_count": null,
      "outputs": [
        {
          "output_type": "stream",
          "name": "stdout",
          "text": [
            "label\n",
            "17    1294\n",
            "16    1279\n",
            "11    1241\n",
            "22    1225\n",
            "5     1204\n",
            "18    1199\n",
            "14    1196\n",
            "3     1196\n",
            "19    1186\n",
            "23    1164\n",
            "8     1162\n",
            "20    1161\n",
            "13    1151\n",
            "2     1144\n",
            "0     1126\n",
            "24    1118\n",
            "10    1114\n",
            "6     1090\n",
            "15    1088\n",
            "21    1082\n",
            "12    1055\n",
            "7     1013\n",
            "1     1010\n",
            "4      957\n",
            "Name: count, dtype: int64\n"
          ]
        }
      ]
    },
    {
      "cell_type": "code",
      "source": [
        "import matplotlib.pyplot as plt\n",
        "\n",
        "label_mapping = {\n",
        "    0: 'A',\n",
        "    1: 'B',\n",
        "    2: 'C',\n",
        "    3: 'D',\n",
        "    4: 'E',\n",
        "    5: 'F',\n",
        "    6: 'G',\n",
        "    7: 'H',\n",
        "    8: 'I',\n",
        "    9: 'J',\n",
        "    10: 'K',\n",
        "    11: 'L',\n",
        "    12: 'M',\n",
        "    13: 'N',\n",
        "    14: 'O',\n",
        "    15: 'P',\n",
        "    16: 'Q',\n",
        "    17: 'R',\n",
        "    18: 'S',\n",
        "    19: 'T',\n",
        "    20: 'U',\n",
        "    21: 'V',\n",
        "    22: 'W',\n",
        "    23: 'X',\n",
        "    24: 'Y',\n",
        "    25: 'Z'\n",
        "}\n",
        "\n",
        "def plot_images(data, labels, num=5):\n",
        "    fig, axes = plt.subplots(1, num, figsize=(10, 2))\n",
        "    fig.tight_layout()\n",
        "\n",
        "    for i in range(num):\n",
        "        ax = axes[i]\n",
        "        ax.imshow(data[i].reshape(28, 28), cmap='gray')\n",
        "        ax.set_title(f'Label: {labels[i]} ({label_mapping[labels[i]]})')\n",
        "        ax.axis('off')\n",
        "\n",
        "    plt.show()\n",
        "\n",
        "plot_images(train_df.iloc[:, 1:].values, train_df['label'].values)"
      ],
      "metadata": {
        "colab": {
          "base_uri": "https://localhost:8080/",
          "height": 198
        },
        "id": "2rfhAAcPYzBG",
        "outputId": "51dae64d-35a3-4387-80a8-c0a80b80c5c6"
      },
      "execution_count": null,
      "outputs": [
        {
          "output_type": "display_data",
          "data": {
            "text/plain": [
              "<Figure size 1000x200 with 5 Axes>"
            ],
            "image/png": "[encoded data removed]"
          },
          "metadata": {}
        }
      ]
    },
    {
      "cell_type": "markdown",
      "source": [
        "# Transformación de datos"
      ],
      "metadata": {
        "id": "EDKfNprj1pJn"
      }
    },
    {
      "cell_type": "code",
      "source": [
        "from tensorflow.keras.preprocessing.image import ImageDataGenerator\n",
        "import numpy as np\n",
        "\n",
        "batch_size = 32\n",
        "\n",
        "X_train = train_df.iloc[:, 1:].values.reshape(-1, 28, 28, 1) / 255.0\n",
        "y_train = train_df['label'].values\n",
        "\n",
        "X_val = test_df.iloc[:, 1:].values.reshape(-1, 28, 28, 1) / 255.0\n",
        "y_val = test_df['label'].values"
      ],
      "metadata": {
        "id": "lJblCH-5Y8Nz"
      },
      "execution_count": null,
      "outputs": []
    },
    {
      "cell_type": "markdown",
      "source": [
        "# Data Augmentation"
      ],
      "metadata": {
        "id": "mhG9MQ-21olm"
      }
    },
    {
      "cell_type": "code",
      "source": [
        "datagen_train = ImageDataGenerator(\n",
        "    rotation_range=10,\n",
        "    width_shift_range=0.1,\n",
        "    height_shift_range=0.1,\n",
        "    horizontal_flip=True)\n",
        "\n",
        "train_generator = datagen_train.flow(\n",
        "    X_train,\n",
        "    y_train,\n",
        "    batch_size=batch_size)\n",
        "\n",
        "datagen_val = ImageDataGenerator()\n",
        "val_generator = datagen_val.flow(X_val, y_val, batch_size=batch_size)"
      ],
      "metadata": {
        "id": "vMyaLwYb1nL3"
      },
      "execution_count": null,
      "outputs": []
    },
    {
      "cell_type": "markdown",
      "source": [
        "\n",
        "\n",
        "```\n",
        "1. ¿Qué es el data augmentation y cómo puede beneficiar el entrenamiento de una CNN?\n",
        "El data augmentation consiste en generar artificialmente diversas imágenes de entrenamiento a partir de cada imagen inicial aplicándoles transformaciones aleatorias (rotaciones, recortes, espejado, cambio de brillo).\n",
        "El data augmentation permite aumentar la diversidad del dataset y mejora el rendimiento de las CNN en el procesamiento de imágenes, porque reduce el sobreajuste y mejora la robustez del modelo frente a variaciones en los datos.\n",
        "\n",
        "\n",
        "2. ¿Por qué es importante normalizar los datos de entrada y qué impacto tiene en el rendimiento del modelo?\n",
        "*   Acelera la convergencia del optimizador, mejorando la eficiencia del entrenamiento.\n",
        "*   Permite iniciar el entrenamiento de la CNN cerca a un punto óptimo.\n",
        "*   Reduce la varianza del modelo, ya que los valores se encuentran en un rango específico ([-1,1] o [0,1]).\n",
        "*   Corrije datos duplicados y anomalías en la base de datos.\n",
        "*   Evita la creación y actualización de relaciones y dependencias no deseadas entre datos.\n",
        "\n",
        "```\n",
        "\n"
      ],
      "metadata": {
        "id": "7DHSwvw49zLY"
      }
    },
    {
      "cell_type": "markdown",
      "source": [
        "# Creación del modelo"
      ],
      "metadata": {
        "id": "y-oi5X4w18Cl"
      }
    },
    {
      "cell_type": "code",
      "source": [
        "import tensorflow as tf\n",
        "from tensorflow.keras.models import Sequential\n",
        "from tensorflow.keras.layers import Conv2D, MaxPooling2D, Flatten, Dense, Dropout\n",
        "\n",
        "model = Sequential([\n",
        "    Conv2D(32, (3, 3), activation='relu', input_shape=(28, 28, 1)),\n",
        "    MaxPooling2D((2, 2)),\n",
        "    Conv2D(64, (3, 3), activation='relu'),\n",
        "    MaxPooling2D((2, 2)),\n",
        "    Conv2D(64, (3, 3), activation='relu'),\n",
        "    Flatten(),\n",
        "    Dense(128, activation='relu'),\n",
        "    Dropout(0.5),\n",
        "    Dense(26, activation='softmax')\n",
        "])\n",
        "\n",
        "model.compile(optimizer='adam',\n",
        "              loss='sparse_categorical_crossentropy',\n",
        "              metrics=['accuracy'])\n",
        "\n",
        "model.summary()"
      ],
      "metadata": {
        "colab": {
          "base_uri": "https://localhost:8080/",
          "height": 484
        },
        "id": "wM-4Vyb4acHV",
        "outputId": "e1a30688-2cc5-4dea-d479-5ea7527239d8"
      },
      "execution_count": null,
      "outputs": [
        {
          "output_type": "stream",
          "name": "stderr",
          "text": [
            "/usr/local/lib/python3.10/dist-packages/keras/src/layers/convolutional/base_conv.py:107: UserWarning: Do not pass an `input_shape`/`input_dim` argument to a layer. When using Sequential models, prefer using an `Input(shape)` object as the first layer in the model instead.\n",
            "  super().__init__(activity_regularizer=activity_regularizer, **kwargs)\n"
          ]
        },
        {
          "output_type": "display_data",
          "data": {
            "text/plain": [
              "\u001b[1mModel: \"sequential\"\u001b[0m\n"
            ],
            "text/html": [
              "<pre style=\"white-space:pre;overflow-x:auto;line-height:normal;font-family:Menlo,'DejaVu Sans Mono',consolas,'Courier New',monospace\"><span style=\"font-weight: bold\">Model: \"sequential\"</span>\n",
              "</pre>\n"
            ]
          },
          "metadata": {}
        },
        {
          "output_type": "display_data",
          "data": {
            "text/plain": [
              "┏━━━━━━━━━━━━━━━━━━━━━━━━━━━━━━━━━━━━━━┳━━━━━━━━━━━━━━━━━━━━━━━━━━━━━┳━━━━━━━━━━━━━━━━━┓\n",
              "┃\u001b[1m \u001b[0m\u001b[1mLayer (type)                        \u001b[0m\u001b[1m \u001b[0m┃\u001b[1m \u001b[0m\u001b[1mOutput Shape               \u001b[0m\u001b[1m \u001b[0m┃\u001b[1m \u001b[0m\u001b[1m        Param #\u001b[0m\u001b[1m \u001b[0m┃\n",
              "┡━━━━━━━━━━━━━━━━━━━━━━━━━━━━━━━━━━━━━━╇━━━━━━━━━━━━━━━━━━━━━━━━━━━━━╇━━━━━━━━━━━━━━━━━┩\n",
              "│ conv2d (\u001b[38;5;33mConv2D\u001b[0m)                      │ (\u001b[38;5;45mNone\u001b[0m, \u001b[38;5;34m26\u001b[0m, \u001b[38;5;34m26\u001b[0m, \u001b[38;5;34m32\u001b[0m)          │             \u001b[38;5;34m320\u001b[0m │\n",
              "├──────────────────────────────────────┼─────────────────────────────┼─────────────────┤\n",
              "│ max_pooling2d (\u001b[38;5;33mMaxPooling2D\u001b[0m)         │ (\u001b[38;5;45mNone\u001b[0m, \u001b[38;5;34m13\u001b[0m, \u001b[38;5;34m13\u001b[0m, \u001b[38;5;34m32\u001b[0m)          │               \u001b[38;5;34m0\u001b[0m │\n",
              "├──────────────────────────────────────┼─────────────────────────────┼─────────────────┤\n",
              "│ conv2d_1 (\u001b[38;5;33mConv2D\u001b[0m)                    │ (\u001b[38;5;45mNone\u001b[0m, \u001b[38;5;34m11\u001b[0m, \u001b[38;5;34m11\u001b[0m, \u001b[38;5;34m64\u001b[0m)          │          \u001b[38;5;34m18,496\u001b[0m │\n",
              "├──────────────────────────────────────┼─────────────────────────────┼─────────────────┤\n",
              "│ max_pooling2d_1 (\u001b[38;5;33mMaxPooling2D\u001b[0m)       │ (\u001b[38;5;45mNone\u001b[0m, \u001b[38;5;34m5\u001b[0m, \u001b[38;5;34m5\u001b[0m, \u001b[38;5;34m64\u001b[0m)            │               \u001b[38;5;34m0\u001b[0m │\n",
              "├──────────────────────────────────────┼─────────────────────────────┼─────────────────┤\n",
              "│ conv2d_2 (\u001b[38;5;33mConv2D\u001b[0m)                    │ (\u001b[38;5;45mNone\u001b[0m, \u001b[38;5;34m3\u001b[0m, \u001b[38;5;34m3\u001b[0m, \u001b[38;5;34m64\u001b[0m)            │          \u001b[38;5;34m36,928\u001b[0m │\n",
              "├──────────────────────────────────────┼─────────────────────────────┼─────────────────┤\n",
              "│ flatten (\u001b[38;5;33mFlatten\u001b[0m)                    │ (\u001b[38;5;45mNone\u001b[0m, \u001b[38;5;34m576\u001b[0m)                 │               \u001b[38;5;34m0\u001b[0m │\n",
              "├──────────────────────────────────────┼─────────────────────────────┼─────────────────┤\n",
              "│ dense (\u001b[38;5;33mDense\u001b[0m)                        │ (\u001b[38;5;45mNone\u001b[0m, \u001b[38;5;34m128\u001b[0m)                 │          \u001b[38;5;34m73,856\u001b[0m │\n",
              "├──────────────────────────────────────┼─────────────────────────────┼─────────────────┤\n",
              "│ dropout (\u001b[38;5;33mDropout\u001b[0m)                    │ (\u001b[38;5;45mNone\u001b[0m, \u001b[38;5;34m128\u001b[0m)                 │               \u001b[38;5;34m0\u001b[0m │\n",
              "├──────────────────────────────────────┼─────────────────────────────┼─────────────────┤\n",
              "│ dense_1 (\u001b[38;5;33mDense\u001b[0m)                      │ (\u001b[38;5;45mNone\u001b[0m, \u001b[38;5;34m26\u001b[0m)                  │           \u001b[38;5;34m3,354\u001b[0m │\n",
              "└──────────────────────────────────────┴─────────────────────────────┴─────────────────┘\n"
            ],
            "text/html": [
              "<pre style=\"white-space:pre;overflow-x:auto;line-height:normal;font-family:Menlo,'DejaVu Sans Mono',consolas,'Courier New',monospace\">┏━━━━━━━━━━━━━━━━━━━━━━━━━━━━━━━━━━━━━━┳━━━━━━━━━━━━━━━━━━━━━━━━━━━━━┳━━━━━━━━━━━━━━━━━┓\n",
              "┃<span style=\"font-weight: bold\"> Layer (type)                         </span>┃<span style=\"font-weight: bold\"> Output Shape                </span>┃<span style=\"font-weight: bold\">         Param # </span>┃\n",
              "┡━━━━━━━━━━━━━━━━━━━━━━━━━━━━━━━━━━━━━━╇━━━━━━━━━━━━━━━━━━━━━━━━━━━━━╇━━━━━━━━━━━━━━━━━┩\n",
              "│ conv2d (<span style=\"color: #0087ff; text-decoration-color: #0087ff\">Conv2D</span>)                      │ (<span style=\"color: #00d7ff; text-decoration-color: #00d7ff\">None</span>, <span style=\"color: #00af00; text-decoration-color: #00af00\">26</span>, <span style=\"color: #00af00; text-decoration-color: #00af00\">26</span>, <span style=\"color: #00af00; text-decoration-color: #00af00\">32</span>)          │             <span style=\"color: #00af00; text-decoration-color: #00af00\">320</span> │\n",
              "├──────────────────────────────────────┼─────────────────────────────┼─────────────────┤\n",
              "│ max_pooling2d (<span style=\"color: #0087ff; text-decoration-color: #0087ff\">MaxPooling2D</span>)         │ (<span style=\"color: #00d7ff; text-decoration-color: #00d7ff\">None</span>, <span style=\"color: #00af00; text-decoration-color: #00af00\">13</span>, <span style=\"color: #00af00; text-decoration-color: #00af00\">13</span>, <span style=\"color: #00af00; text-decoration-color: #00af00\">32</span>)          │               <span style=\"color: #00af00; text-decoration-color: #00af00\">0</span> │\n",
              "├──────────────────────────────────────┼─────────────────────────────┼─────────────────┤\n",
              "│ conv2d_1 (<span style=\"color: #0087ff; text-decoration-color: #0087ff\">Conv2D</span>)                    │ (<span style=\"color: #00d7ff; text-decoration-color: #00d7ff\">None</span>, <span style=\"color: #00af00; text-decoration-color: #00af00\">11</span>, <span style=\"color: #00af00; text-decoration-color: #00af00\">11</span>, <span style=\"color: #00af00; text-decoration-color: #00af00\">64</span>)          │          <span style=\"color: #00af00; text-decoration-color: #00af00\">18,496</span> │\n",
              "├──────────────────────────────────────┼─────────────────────────────┼─────────────────┤\n",
              "│ max_pooling2d_1 (<span style=\"color: #0087ff; text-decoration-color: #0087ff\">MaxPooling2D</span>)       │ (<span style=\"color: #00d7ff; text-decoration-color: #00d7ff\">None</span>, <span style=\"color: #00af00; text-decoration-color: #00af00\">5</span>, <span style=\"color: #00af00; text-decoration-color: #00af00\">5</span>, <span style=\"color: #00af00; text-decoration-color: #00af00\">64</span>)            │               <span style=\"color: #00af00; text-decoration-color: #00af00\">0</span> │\n",
              "├──────────────────────────────────────┼─────────────────────────────┼─────────────────┤\n",
              "│ conv2d_2 (<span style=\"color: #0087ff; text-decoration-color: #0087ff\">Conv2D</span>)                    │ (<span style=\"color: #00d7ff; text-decoration-color: #00d7ff\">None</span>, <span style=\"color: #00af00; text-decoration-color: #00af00\">3</span>, <span style=\"color: #00af00; text-decoration-color: #00af00\">3</span>, <span style=\"color: #00af00; text-decoration-color: #00af00\">64</span>)            │          <span style=\"color: #00af00; text-decoration-color: #00af00\">36,928</span> │\n",
              "├──────────────────────────────────────┼─────────────────────────────┼─────────────────┤\n",
              "│ flatten (<span style=\"color: #0087ff; text-decoration-color: #0087ff\">Flatten</span>)                    │ (<span style=\"color: #00d7ff; text-decoration-color: #00d7ff\">None</span>, <span style=\"color: #00af00; text-decoration-color: #00af00\">576</span>)                 │               <span style=\"color: #00af00; text-decoration-color: #00af00\">0</span> │\n",
              "├──────────────────────────────────────┼─────────────────────────────┼─────────────────┤\n",
              "│ dense (<span style=\"color: #0087ff; text-decoration-color: #0087ff\">Dense</span>)                        │ (<span style=\"color: #00d7ff; text-decoration-color: #00d7ff\">None</span>, <span style=\"color: #00af00; text-decoration-color: #00af00\">128</span>)                 │          <span style=\"color: #00af00; text-decoration-color: #00af00\">73,856</span> │\n",
              "├──────────────────────────────────────┼─────────────────────────────┼─────────────────┤\n",
              "│ dropout (<span style=\"color: #0087ff; text-decoration-color: #0087ff\">Dropout</span>)                    │ (<span style=\"color: #00d7ff; text-decoration-color: #00d7ff\">None</span>, <span style=\"color: #00af00; text-decoration-color: #00af00\">128</span>)                 │               <span style=\"color: #00af00; text-decoration-color: #00af00\">0</span> │\n",
              "├──────────────────────────────────────┼─────────────────────────────┼─────────────────┤\n",
              "│ dense_1 (<span style=\"color: #0087ff; text-decoration-color: #0087ff\">Dense</span>)                      │ (<span style=\"color: #00d7ff; text-decoration-color: #00d7ff\">None</span>, <span style=\"color: #00af00; text-decoration-color: #00af00\">26</span>)                  │           <span style=\"color: #00af00; text-decoration-color: #00af00\">3,354</span> │\n",
              "└──────────────────────────────────────┴─────────────────────────────┴─────────────────┘\n",
              "</pre>\n"
            ]
          },
          "metadata": {}
        },
        {
          "output_type": "display_data",
          "data": {
            "text/plain": [
              "\u001b[1m Total params: \u001b[0m\u001b[38;5;34m132,954\u001b[0m (519.35 KB)\n"
            ],
            "text/html": [
              "<pre style=\"white-space:pre;overflow-x:auto;line-height:normal;font-family:Menlo,'DejaVu Sans Mono',consolas,'Courier New',monospace\"><span style=\"font-weight: bold\"> Total params: </span><span style=\"color: #00af00; text-decoration-color: #00af00\">132,954</span> (519.35 KB)\n",
              "</pre>\n"
            ]
          },
          "metadata": {}
        },
        {
          "output_type": "display_data",
          "data": {
            "text/plain": [
              "\u001b[1m Trainable params: \u001b[0m\u001b[38;5;34m132,954\u001b[0m (519.35 KB)\n"
            ],
            "text/html": [
              "<pre style=\"white-space:pre;overflow-x:auto;line-height:normal;font-family:Menlo,'DejaVu Sans Mono',consolas,'Courier New',monospace\"><span style=\"font-weight: bold\"> Trainable params: </span><span style=\"color: #00af00; text-decoration-color: #00af00\">132,954</span> (519.35 KB)\n",
              "</pre>\n"
            ]
          },
          "metadata": {}
        },
        {
          "output_type": "display_data",
          "data": {
            "text/plain": [
              "\u001b[1m Non-trainable params: \u001b[0m\u001b[38;5;34m0\u001b[0m (0.00 B)\n"
            ],
            "text/html": [
              "<pre style=\"white-space:pre;overflow-x:auto;line-height:normal;font-family:Menlo,'DejaVu Sans Mono',consolas,'Courier New',monospace\"><span style=\"font-weight: bold\"> Non-trainable params: </span><span style=\"color: #00af00; text-decoration-color: #00af00\">0</span> (0.00 B)\n",
              "</pre>\n"
            ]
          },
          "metadata": {}
        }
      ]
    },
    {
      "cell_type": "markdown",
      "source": [
        "\n",
        "\n",
        "```\n",
        "1. ¿Qué función cumplen las capas Conv2D y MaxPooling2D en una CNN?\n",
        "La capa conv2D crea un núcleo de convolución (con el uso de filtros) que se encarga de calcular el producto escalar entre el valor de los píxeles de la entrada y una región conectada a ella (región local), lo cual produce un tensor de salidas.\n",
        "La capa MaxPooling2D reduce la cantidad de datos entre una capa y otra, preservando la información más relevante y controlando el sobreajuste, lo que facilita el procesamiento de imágenes y entrenamiento de la CNN.\n",
        "\n",
        "2. ¿Qué es el Dropout y cómo ayuda a prevenir el sobreajuste en redes neuronales?\n",
        "El Dropout es una técnica de regularización que se basa en la eliminación de neuronas en las capas de la red neuronal que es aplicada en base a la probabilidad dada por la distribución de Bernoulli.\n",
        "Esta técnica ayuda a prevenir el sobreajuste en redes neuronales, porque:\n",
        "*   Reduce la dependencia entre neuronas.\n",
        "*   Fuerza a la red a generalizar mejor.\n",
        "*   Mejora la robustez del modelo.\n",
        "\n",
        "3. ¿Por qué se utiliza la función de activación ReLU en las capas ocultas y cuáles son sus ventajas?\n",
        "La función de activación ReLU se utiliza en las capas ocultas, porque permite convertir combinaciones lineales de entradas en salidas no lineales, permitiendo capturar relaciones más complejas. Para ello analiza si el valor de entrada es positivo o negativo; cuando es negativo devuelve un valor 0 en la salida, y cuando es positivo ó 0 devuleve el mismo valor de entrada en la salida.\n",
        "Ventajas:\n",
        "*   Menor coste computacional.\n",
        "*   Acelera la convergencia del gradiente.\n",
        "*   Permite que capas profundas aprendan de manera eficiente.\n",
        "*   Facilita entrenamiento de la red neuronal.\n",
        "\n",
        "4. ¿Qué hace la función de activación softmax en la capa de salida y en qué tipo de problemas se utiliza comúnmente?\n",
        "La función de activación softmax se utiliza en la capa de salida de una red neuronal para realizar la clasificación multiclase. Permite convertir los valores de salida de la capa anterior en probablidades que suman 1. Las cuales se usan para medir la confianza del modelo en la pertenencia a cada clase.\n",
        "Esta función se utiliza en problemas de clasificación multiclase para determinar la clase con mayor probabilidad.\n",
        "\n",
        "5. ¿Qué es el tamaño del filtro (filter size) en una capa convolucional y cómo impacta la calidad de las características extraídas?\n",
        "El tamaño del filtro define la región sobre la que la convolución opera. Es una matriz cuadrada bidimensional que se aplica a cada capa convolucional que puede ser de 3x3, 5x5 o 7x7.\n",
        "El impacto de la calidad de las características extraídas se basan en que:\n",
        "*   Filtros pequeños capturan detalles finos.\n",
        "*   Filtros grandes capturan características más globales pero aumentan la complejidad.\n",
        "\n",
        "6. ¿Qué efecto tiene un stride mayor que 1 en la resolución de la salida de una capa convolucional?\n",
        "El stride es el número de píxeles en los que el filtro se mueve a la derecha cada vez.\n",
        "Por tanto, un stride mayor que 1 reduce la resolución espacial de la salida, lo que ayuda a que el procesamiento sea más veloz, pero puede ocasionar pérdida de cierta información (detalles pequeños).\n",
        "\n",
        "7. ¿Cómo se debe seleccionar el tamaño del filtro y el stride para optimizar el balance entre la extracción de características y la complejidad del modelo?\n",
        "Normalmente se empieza con un stride pequeño (1 o 2) y un filtro pequeño (3x3) para captar los detalles, moviéndose luego a strides y filtros de mayor tamaño para captar características más generales.\n",
        "```\n",
        "\n"
      ],
      "metadata": {
        "id": "46NTVYAv-gC5"
      }
    },
    {
      "cell_type": "markdown",
      "source": [
        "# Terminación anticipada y Checkpoints"
      ],
      "metadata": {
        "id": "bmspf3K62egv"
      }
    },
    {
      "cell_type": "code",
      "source": [
        "from tensorflow.keras.callbacks import EarlyStopping, ModelCheckpoint\n",
        "\n",
        "early_stopping = EarlyStopping(monitor='val_loss', patience=5, restore_best_weights=True)\n",
        "model_checkpoint = ModelCheckpoint('best_model.keras', save_best_only=True, monitor='val_accuracy')"
      ],
      "metadata": {
        "id": "TrTC9Xw2e6EK"
      },
      "execution_count": null,
      "outputs": []
    },
    {
      "cell_type": "code",
      "source": [
        "class CustomModelCheckpoint(ModelCheckpoint):\n",
        "    def __init__(self, *args, **kwargs):\n",
        "        super().__init__(*args, **kwargs)\n",
        "        self.best_val_accuracy = -float('inf')\n",
        "\n",
        "    def on_epoch_end(self, epoch, logs=None):\n",
        "        current_val_accuracy = logs.get('val_accuracy')\n",
        "\n",
        "        if current_val_accuracy and current_val_accuracy > self.best_val_accuracy:\n",
        "            self.best_val_accuracy = current_val_accuracy\n",
        "            print(f\" Modelo guardado época {epoch + 1} con exactitud: {current_val_accuracy:.4f}\")\n",
        "\n",
        "        super().on_epoch_end(epoch, logs)\n",
        "\n",
        "custom_model_checkpoint = CustomModelCheckpoint('best_model.keras', save_best_only=True, monitor='val_accuracy')"
      ],
      "metadata": {
        "id": "7zqBlMsQfI-K"
      },
      "execution_count": null,
      "outputs": []
    },
    {
      "cell_type": "markdown",
      "source": [
        "\n",
        "\n",
        "```\n",
        "1. ¿Qué es el EarlyStopping y cómo contribuye a mejorar el proceso de entrenamiento de un modelo?\n",
        "EarlyStopping detiene el entrenamiento si la métrica de validación no mejora tras un número de épocas. En este caso la métrica de validación es la pérdida y la \"paciencia\" (número de épocas en las que se espera a que la métrica mejore) es de 5 épocas.\n",
        "Su contribución en la mejora del proceso de entrenamiento radica en que evita el sobreentrenamiento (overfitting), reduciendo así los recursos computacionales empleados y permitiendo una mejor generalización del modelo.\n",
        "\n",
        "2. ¿Cuál es la función de ModelCheckpoint y por qué es útil guardar el mejor modelo durante el entrenamiento?\n",
        "ModelCheckpoint guarda el modelo cada vez que mejora en alguna métrica (como la precisión). Así se asegura de poder recuperar el mejor modelo logrado.\n",
        "Porque no siempre el mejor modelo se obtiene al final del entrenamiento. Así, cuando se termina el entrenamiento, se puede elegir la mejor opción entre todos los modelos guardados.\n",
        "```\n",
        "\n"
      ],
      "metadata": {
        "id": "y6gc9rHJ_W73"
      }
    },
    {
      "cell_type": "markdown",
      "source": [
        "# Entrenamiento"
      ],
      "metadata": {
        "id": "j_HsoRXW2zcK"
      }
    },
    {
      "cell_type": "code",
      "source": [
        "epochs = 5\n",
        "\n",
        "history = model.fit(\n",
        "    train_generator,\n",
        "    validation_data=val_generator,\n",
        "    epochs=epochs,\n",
        "    # callbacks=[early_stopping, model_checkpoint]\n",
        "    callbacks=[early_stopping, custom_model_checkpoint]\n",
        ")"
      ],
      "metadata": {
        "colab": {
          "base_uri": "https://localhost:8080/"
        },
        "id": "BX2_-dN8bWDq",
        "outputId": "6bac424f-ad8f-4e1f-8a09-e2f49b4cf0b1"
      },
      "execution_count": null,
      "outputs": [
        {
          "output_type": "stream",
          "name": "stdout",
          "text": [
            "Epoch 1/5\n"
          ]
        },
        {
          "output_type": "stream",
          "name": "stderr",
          "text": [
            "/usr/local/lib/python3.10/dist-packages/keras/src/trainers/data_adapters/py_dataset_adapter.py:121: UserWarning: Your `PyDataset` class should call `super().__init__(**kwargs)` in its constructor. `**kwargs` can include `workers`, `use_multiprocessing`, `max_queue_size`. Do not pass these arguments to `fit()`, as they will be ignored.\n",
            "  self._warn_if_super_not_called()\n"
          ]
        },
        {
          "output_type": "stream",
          "name": "stdout",
          "text": [
            "\u001b[1m850/858\u001b[0m \u001b[32m━━━━━━━━━━━━━━━━━━━\u001b[0m\u001b[37m━\u001b[0m \u001b[1m0s\u001b[0m 22ms/step - accuracy: 0.1132 - loss: 2.9446 Modelo guardado época 1 con exactitud: 0.5722\n",
            "\u001b[1m858/858\u001b[0m \u001b[32m━━━━━━━━━━━━━━━━━━━━\u001b[0m\u001b[37m\u001b[0m \u001b[1m28s\u001b[0m 25ms/step - accuracy: 0.1144 - loss: 2.9399 - val_accuracy: 0.5722 - val_loss: 1.3511\n",
            "Epoch 2/5\n",
            "\u001b[1m857/858\u001b[0m \u001b[32m━━━━━━━━━━━━━━━━━━━\u001b[0m\u001b[37m━\u001b[0m \u001b[1m0s\u001b[0m 16ms/step - accuracy: 0.4889 - loss: 1.5226 Modelo guardado época 2 con exactitud: 0.7107\n",
            "\u001b[1m858/858\u001b[0m \u001b[32m━━━━━━━━━━━━━━━━━━━━\u001b[0m\u001b[37m\u001b[0m \u001b[1m15s\u001b[0m 17ms/step - accuracy: 0.4890 - loss: 1.5222 - val_accuracy: 0.7107 - val_loss: 0.7704\n",
            "Epoch 3/5\n",
            "\u001b[1m855/858\u001b[0m \u001b[32m━━━━━━━━━━━━━━━━━━━\u001b[0m\u001b[37m━\u001b[0m \u001b[1m0s\u001b[0m 16ms/step - accuracy: 0.6299 - loss: 1.0509 Modelo guardado época 3 con exactitud: 0.7776\n",
            "\u001b[1m858/858\u001b[0m \u001b[32m━━━━━━━━━━━━━━━━━━━━\u001b[0m\u001b[37m\u001b[0m \u001b[1m15s\u001b[0m 17ms/step - accuracy: 0.6300 - loss: 1.0506 - val_accuracy: 0.7776 - val_loss: 0.5874\n",
            "Epoch 4/5\n",
            "\u001b[1m849/858\u001b[0m \u001b[32m━━━━━━━━━━━━━━━━━━━\u001b[0m\u001b[37m━\u001b[0m \u001b[1m0s\u001b[0m 16ms/step - accuracy: 0.7127 - loss: 0.8055 Modelo guardado época 4 con exactitud: 0.8747\n",
            "\u001b[1m858/858\u001b[0m \u001b[32m━━━━━━━━━━━━━━━━━━━━\u001b[0m\u001b[37m\u001b[0m \u001b[1m15s\u001b[0m 17ms/step - accuracy: 0.7129 - loss: 0.8051 - val_accuracy: 0.8747 - val_loss: 0.3627\n",
            "Epoch 5/5\n",
            "\u001b[1m851/858\u001b[0m \u001b[32m━━━━━━━━━━━━━━━━━━━\u001b[0m\u001b[37m━\u001b[0m \u001b[1m0s\u001b[0m 15ms/step - accuracy: 0.7604 - loss: 0.6728 Modelo guardado época 5 con exactitud: 0.8956\n",
            "\u001b[1m858/858\u001b[0m \u001b[32m━━━━━━━━━━━━━━━━━━━━\u001b[0m\u001b[37m\u001b[0m \u001b[1m20s\u001b[0m 16ms/step - accuracy: 0.7605 - loss: 0.6726 - val_accuracy: 0.8956 - val_loss: 0.2749\n"
          ]
        }
      ]
    },
    {
      "cell_type": "markdown",
      "source": [
        "\n",
        "\n",
        "```\n",
        "1. ¿Qué significa el parámetro epochs y cómo afecta al entrenamiento de un modelo?\n",
        "El parámetro epochs (\"épocas\") indica cuántas veces el modelo analizará todo el dataset de entrenamiento.\n",
        "Más épocas permiten al modelo obtener mejores resultados al darle más tiempo para aprender.\n",
        "Por otro lado, también aumentan el riesgo de sobreajuste, lo que impide al modelo funcionar de manera satisfactoria con datasets distintos al de entrenamiento.\n",
        "\n",
        "2. ¿Cuál es la diferencia entre train_generator y val_generator en el contexto del entrenamiento y la validación del modelo?\n",
        "train_generator: Alimenta el modelo con datos de entrenamiento.\n",
        "val_generator: Valida el modelo durante el entrenamiento sin influir en el aprendizaje.\n",
        "```\n",
        "\n"
      ],
      "metadata": {
        "id": "PaZgt9bK_iTl"
      }
    },
    {
      "cell_type": "markdown",
      "source": [
        "# Predicciones"
      ],
      "metadata": {
        "id": "xsvOQVTGlPOA"
      }
    },
    {
      "cell_type": "code",
      "source": [
        "from tensorflow.keras.models import load_model\n",
        "from sklearn.metrics import confusion_matrix, ConfusionMatrixDisplay, classification_report\n",
        "import seaborn as sns\n",
        "\n",
        "best_model = load_model('best_model.keras')\n",
        "\n",
        "X_test = test_df.iloc[:, 1:].values.astype('float32') / 255.0\n",
        "y_test = test_df['label'].values\n",
        "\n",
        "X_test = X_test.reshape(-1, 28, 28, 1)\n",
        "\n",
        "predictions = best_model.predict(X_test)\n",
        "predicted_classes = np.argmax(predictions, axis=1)\n",
        "\n",
        "conf_matrix = confusion_matrix(y_test, predicted_classes)\n",
        "\n",
        "plt.figure(figsize=(10, 8))\n",
        "sns.heatmap(conf_matrix, annot=True, fmt='d', cmap='Blues',\n",
        "            xticklabels=np.unique(y_test), yticklabels=np.unique(y_test))\n",
        "plt.xlabel('Predicción')\n",
        "plt.ylabel('Real')\n",
        "plt.title('Confusion Matrix')\n",
        "plt.show()\n",
        "\n",
        "print(classification_report(y_test, predicted_classes, target_names=np.unique(y_test.astype(str))))"
      ],
      "metadata": {
        "colab": {
          "base_uri": "https://localhost:8080/",
          "height": 1000
        },
        "id": "gaqVUZwMkcAY",
        "outputId": "bd156bee-14b2-485f-ba84-c7396c6fe319"
      },
      "execution_count": null,
      "outputs": [
        {
          "output_type": "stream",
          "name": "stdout",
          "text": [
            "\u001b[1m225/225\u001b[0m \u001b[32m━━━━━━━━━━━━━━━━━━━━\u001b[0m\u001b[37m\u001b[0m \u001b[1m1s\u001b[0m 4ms/step\n"
          ]
        },
        {
          "output_type": "display_data",
          "data": {
            "text/plain": [
              "<Figure size 1000x800 with 2 Axes>"
            ],
            "image/png": "[encoded data removed]"
          },
          "metadata": {}
        },
        {
          "output_type": "stream",
          "name": "stdout",
          "text": [
            "              precision    recall  f1-score   support\n",
            "\n",
            "           0       0.80      0.97      0.87       331\n",
            "           1       1.00      1.00      1.00       432\n",
            "          10       1.00      0.92      0.96       310\n",
            "          11       1.00      0.96      0.98       245\n",
            "          12       0.87      0.99      0.92       498\n",
            "          13       0.96      1.00      0.98       247\n",
            "          14       0.92      0.75      0.82       348\n",
            "          15       0.98      0.94      0.96       436\n",
            "          16       0.81      0.93      0.86       288\n",
            "          17       0.76      0.93      0.84       331\n",
            "          18       1.00      1.00      1.00       209\n",
            "          19       0.97      0.74      0.84       394\n",
            "           2       0.71      0.82      0.76       291\n",
            "          20       0.86      1.00      0.92       246\n",
            "          21       1.00      0.84      0.91       347\n",
            "          22       0.84      1.00      0.91       164\n",
            "          23       0.59      0.68      0.63       144\n",
            "          24       0.94      0.63      0.75       246\n",
            "           3       0.73      0.89      0.80       248\n",
            "           4       0.96      0.82      0.88       266\n",
            "           5       1.00      0.89      0.94       346\n",
            "           6       1.00      1.00      1.00       206\n",
            "           7       0.91      1.00      0.95       267\n",
            "           8       0.93      0.76      0.83       332\n",
            "\n",
            "    accuracy                           0.90      7172\n",
            "   macro avg       0.90      0.89      0.89      7172\n",
            "weighted avg       0.91      0.90      0.90      7172\n",
            "\n"
          ]
        }
      ]
    },
    {
      "cell_type": "code",
      "source": [
        "import numpy as np\n",
        "import matplotlib.pyplot as plt\n",
        "\n",
        "num_images_to_show = 15\n",
        "indices = np.random.choice(len(X_test), num_images_to_show, replace=False)\n",
        "images_per_row = 5\n",
        "\n",
        "plt.figure(figsize=(15, 15))\n",
        "for i, idx in enumerate(indices):\n",
        "    plt.subplot(num_images_to_show // images_per_row + 1, images_per_row, i + 1)\n",
        "    plt.imshow(X_test[idx].reshape(28, 28), cmap='gray')\n",
        "    plt.title(f'Real: {label_mapping[y_test[idx]]}\\nPred: {label_mapping[predicted_classes[idx]]}')\n",
        "    plt.axis('off')\n",
        "\n",
        "plt.tight_layout()\n",
        "plt.show()"
      ],
      "metadata": {
        "colab": {
          "base_uri": "https://localhost:8080/",
          "height": 966
        },
        "id": "EDGZk3r-kfUS",
        "outputId": "7febff6b-05aa-4546-83bc-694a496124ba"
      },
      "execution_count": null,
      "outputs": [
        {
          "output_type": "display_data",
          "data": {
            "text/plain": [
              "<Figure size 1500x1500 with 15 Axes>"
            ],
            "image/png": "[encoded data removed]"
          },
          "metadata": {}
        }
      ]
    },
    {
      "cell_type": "markdown",
      "source": [
        "\n",
        "\n",
        "```\n",
        "1. ¿Qué es la confusion_matrix y qué información proporciona sobre el rendimiento del modelo?\n",
        "La matriz de confusión (confusion_matrix) es un cuadro de doble entrada que muestra de manera detallada las predicciones correctas e incorrectas para cada clase.\n",
        "Por un lado se muestran las clases reales, mientras que por el otro se muestran las predicciones.\n",
        "La intersección de cada clase real con la misma clase predicha se encuentra en la diagonal de la matriz, donde se ubica el número de predicciones realizadas correctamente.\n",
        "Los errores se ubican fuera de la diagonal.\n",
        "\n",
        "2. ¿Cómo se interpreta el classification_report y qué métricas se incluyen en él?\n",
        "\n",
        "El classification_report es una herramienta que permite evaluar el rendimiento de un modelo de clasificación. Este reporte muestra una serie de métricas clave, que evalúan qué tan bien\n",
        "un modelo de clasificación ha logrado predecir las etiquetas de una clase en comparación con sus valores reales.\n",
        "\n",
        "Las métricas principales incluidas en el classification_report son:\n",
        "\n",
        "*Precision: mide la proporción de verdaderos positivos entre los positivos predichos.\n",
        "*Recall o Sensitivity: mide la proporción de verdaderos positivos entre el total de elementos realmente positivos. Indica qué tan bien el modelo captura las instancias positivas reales.\n",
        "*F1-score: es la media armónica de la precisión y la exhaustividad. Cuando las clases están desbalanceadas, ya que proporciona una métrica única que equilibra ambas.\n",
        "*Support: es el número de muestras verdaderas de cada clase en el conjunto de datos de prueba.\n",
        "\n",
        "3. ¿Por qué es importante utilizar el conjunto de prueba (X_test y y_test) para evaluar el modelo?\n",
        "\n",
        "Es fundamental utilizar el conjunto de prueba (X_test y y_test) para evaluar el modelo porque permite medir su rendimiento en datos no vistos, simulando su comportamiento en un entorno real.\n",
        "Estas son las principales razones:\n",
        "\n",
        "*Evaluación de Generalización: El objetivo de un modelo es generalizar bien en nuevos datos, no solo en aquellos que ha visto durante su entrenamiento. Usar un conjunto de prueba separado\n",
        "permite comprobar cómo se desempeña el modelo en datos que no conoce.\n",
        "*Evitar el Sobreajuste (Overfitting): Durante el entrenamiento, el modelo se ajusta a los patrones en los datos de entrenamiento, pero también puede aprender ruido o detalles específicos de ese\n",
        "conjunto, lo cual no es deseable. La evaluación en el conjunto de prueba permite detectar si el modelo ha aprendido patrones útiles o simplemente ha memorizado el conjunto de entrenamiento.\n",
        "*Comparación de Modelos: Para elegir el mejor modelo entre varias alternativas, es necesario evaluar cada uno en un conjunto de prueba común. Esto permite una comparación objetiva, ya que todos\n",
        "los modelos se prueban con datos que no han sido usados en el entrenamiento.\n",
        "*Evitar la Optimización Incorrecta: Sin un conjunto de prueba, podríamos caer en la tentación de ajustar continuamente el modelo para mejorar el rendimiento en los datos de entrenamiento.\n",
        "Al usar X_test y y_test, se establece un límite claro entre el entrenamiento y la evaluación, evitando ajustes indebidos basados en el conjunto de prueba.\n",
        "\n",
        "4. ¿Qué rol juega la función np.argmax en el proceso de obtención de clases predichas?\n",
        "\n",
        "La función np.argmax en el proceso de obtención de clases predichas juega el rol de identificar la clase con la probabilidad más alta en los resultados de un modelo de clasificación. Es clave\n",
        "para transformar las probabilidades generadas por el modelo en etiquetas de clase concretas.\n",
        "\n",
        "5. ¿Qué información visual adicional proporciona un mapa de calor (heatmap) de la matriz de confusión?\n",
        "\n",
        "Proporciona la siguiente información adicional:\n",
        "\n",
        "*Claridad Visual de los Errores y Aciertos: El uso de colores en un heatmap resalta las celdas donde el modelo ha acertado y donde ha cometido errores.\n",
        "*Identificación de Clases Confundidas: La matriz de confusión muestra cómo las instancias de cada clase real son clasificadas, incluyendo los casos incorrectamente asignados a otras clases.\n",
        "*Relación entre Clases: El mapa de calor permite observar relaciones o patrones específicos entre clases.\n",
        "*Información Intuitiva para Ajuste del Modelo: Los patrones visuales ayudan a decidir si se necesita mejorar la precisión general del modelo o si es necesario enfocarse en mejorar el\n",
        "reconocimiento de ciertas clases.\n",
        "*Representación de Desbalance de Clases: En un heatmap, es fácil observar si ciertas clases están sobre-representadas o si el modelo tiende a predecir una clase específica debido al desbalance.\n",
        "\n",
        "```\n",
        "\n"
      ],
      "metadata": {
        "id": "uF--cnZnAZ97"
      }
    },
    {
      "cell_type": "markdown",
      "source": [
        "# Refinamiento"
      ],
      "metadata": {
        "id": "ka5NN3u54-NX"
      }
    },
    {
      "cell_type": "code",
      "source": [
        "from tensorflow.keras.models import Sequential\n",
        "from tensorflow.keras.layers import Conv2D, MaxPooling2D, Flatten, Dense, Dropout,Input\n",
        "from scikeras.wrappers import KerasClassifier\n",
        "\n",
        "def create_model(optimizer='adam', **kwargs):\n",
        "    dropout_rate = kwargs.get('dropout_rate', 0.5)\n",
        "    model = Sequential([\n",
        "        Input((28, 28, 1)),\n",
        "        Conv2D(32, (3, 3), activation='relu'),\n",
        "        MaxPooling2D((2, 2)),\n",
        "        Conv2D(64, (3, 3), activation='relu'),\n",
        "        MaxPooling2D((2, 2)),\n",
        "        Conv2D(64, (3, 3), activation='relu'),\n",
        "        Flatten(),\n",
        "        Dense(128, activation='relu'),\n",
        "        Dropout(dropout_rate),\n",
        "        Dense(26, activation='softmax')\n",
        "    ])\n",
        "    model.compile(optimizer=optimizer, loss='sparse_categorical_crossentropy', metrics=['accuracy'])\n",
        "    return model\n"
      ],
      "metadata": {
        "id": "IpcgYjAtmFLP"
      },
      "execution_count": null,
      "outputs": []
    },
    {
      "cell_type": "code",
      "source": [
        "from sklearn.model_selection import GridSearchCV\n",
        "\n",
        "epochs = 1\n",
        "model = KerasClassifier(build_fn=create_model, epochs=epochs, batch_size=32, verbose=0)\n",
        "\n",
        "param_grid = {\n",
        "    'model__optimizer': ['SGD', 'Adam'],\n",
        "    'model__dropout_rate': [0.2, 0.5, 0.7]\n",
        "}\n",
        "\n",
        "grid = GridSearchCV(estimator=model, param_grid=param_grid, n_jobs=-1, cv=3)\n",
        "\n",
        "grid_result = grid.fit(X_train, y_train)\n",
        "\n",
        "print(f\"Mejor: {grid_result.best_score_} usando {grid_result.best_params_}\")"
      ],
      "metadata": {
        "colab": {
          "base_uri": "https://localhost:8080/"
        },
        "id": "RomoLaLLqwoq",
        "outputId": "fc894c61-ae44-4474-8ee4-7f3cc4cbeee3"
      },
      "execution_count": null,
      "outputs": [
        {
          "output_type": "stream",
          "name": "stderr",
          "text": [
            "/usr/local/lib/python3.10/dist-packages/joblib/externals/loky/process_executor.py:752: UserWarning: A worker stopped while some jobs were given to the executor. This can be caused by a too short worker timeout or by a memory leak.\n",
            "  warnings.warn(\n",
            "/usr/local/lib/python3.10/dist-packages/scikeras/wrappers.py:925: UserWarning: ``build_fn`` will be renamed to ``model`` in a future release, at which point use of ``build_fn`` will raise an Error instead.\n",
            "  X, y = self._initialize(X, y)\n"
          ]
        },
        {
          "output_type": "stream",
          "name": "stdout",
          "text": [
            "Mejor: 0.8768900946156165 usando {'model__dropout_rate': 0.2, 'model__optimizer': 'Adam'}\n"
          ]
        }
      ]
    },
    {
      "cell_type": "code",
      "source": [
        "val_accuracy = grid_result.best_estimator_.score(X_val, y_val)\n",
        "print(f\"Validation Accuracy: {val_accuracy}\")"
      ],
      "metadata": {
        "colab": {
          "base_uri": "https://localhost:8080/"
        },
        "id": "qrYDlD5_q9tY",
        "outputId": "97d2859c-e373-4d78-f131-347cad75615e"
      },
      "execution_count": null,
      "outputs": [
        {
          "output_type": "stream",
          "name": "stdout",
          "text": [
            "Validation Accuracy: 0.862520914668154\n"
          ]
        }
      ]
    },
    {
      "cell_type": "markdown",
      "source": [
        "\n",
        "\n",
        "```\n",
        "1. ¿Qué es GridSearchCV y cómo se utiliza para optimizar el rendimiento de un modelo?\n",
        "\n",
        "GridSearchCV selecciona la configuración que maximiza el rendimiento del modelo según una métrica especificada (como precisión, F1-score, etc.).\n",
        "Para utilizar GridSearchCV como primer paso el usuario debe definir los hiperparámetros del modelo que se desea optimizar y un rango de valores posibles\n",
        "para cada uno. GridSearchCV prueba todas las combinaciones posibles de los hiperparámetros especificados. Para cada combinación de hiperparámetros,\n",
        "GridSearchCV aplica validación cruzada, dividiendo los datos en varios conjuntos de entrenamiento y prueba para evaluar el rendimiento de cada combinación\n",
        "de forma más robusta. Por último para la selección de la mejor combinación GridSearchCV selecciona la combinación de hiperparámetros que obtiene el mejor\n",
        "rendimiento promedio en los conjuntos de prueba generados durante la validación cruzada.\n",
        "\n",
        "2. ¿Qué representan los parámetros en param_grid y por qué es importante ajustar el optimizador y la tasa de dropout?\n",
        "\n",
        "En GridSearchCV, el parámetro \"param_grid\" representa el espacio de búsqueda de hiperparámetros que queremos optimizar para encontrar la mejor combinación\n",
        "que maximice el rendimiento del modelo. \"param_grid\" es un diccionario donde cada clave es un hiperparámetro del modelo que se desea ajustar y cada valor es una\n",
        "lista de posibles valores para ese hiperparámetro. \"param_grid\" podría incluir hiperparámetros como optimizer, learning_rate y dropout_rate.\n",
        "El optimizador controla cómo se actualizan los pesos del modelo para minimizar la función de pérdida. Seleccionar el optimizador adecuado ayuda a que el modelo\n",
        "converja de manera más rápida y estable, lo cual es clave para obtener buenos resultados. Por otro lado, ajustar esta tasa es importante porque una tasa de dropout\n",
        "muy baja podría permitir que el modelo memorice los datos de entrenamiento, resultando en sobreajuste y una tasa de dropout muy alta podría hacer que el modelo\n",
        "aprenda de manera ineficiente, perdiendo patrones clave y aumentando el error.\n",
        "\n",
        "3. ¿Qué significa el parámetro cv=3 en el contexto de la validación cruzada y cómo influye en la evaluación del modelo?\n",
        "\n",
        "El parámetro cv=3 en el contexto de la validación cruzada indica que los datos se dividirán en 3 folds o subconjuntos para evaluar el rendimiento del modelo. Esto\n",
        "se conoce como \"3-fold cross-validation\". Este parámetro influye en la reducción del Sesgo de Evaluación, estabilidad de la métrica de rendimiento y balance\n",
        "entre costo computacional y robustez.\n",
        "```\n"
      ],
      "metadata": {
        "id": "714DNRfcAy5P"
      }
    }
  ]
}