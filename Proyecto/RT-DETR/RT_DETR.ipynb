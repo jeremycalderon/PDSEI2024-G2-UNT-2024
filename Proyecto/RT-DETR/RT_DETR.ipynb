{
  "nbformat": 4,
  "nbformat_minor": 0,
  "metadata": {
    "colab": {
      "provenance": []
    },
    "kernelspec": {
      "name": "python3",
      "display_name": "Python 3"
    },
    "language_info": {
      "name": "python"
    }
  },
  "cells": [
    {
      "cell_type": "code",
      "execution_count": null,
      "metadata": {
        "id": "6ogaA-A7UPfS",
        "colab": {
          "base_uri": "https://localhost:8080/"
        },
        "outputId": "521b40aa-6cf8-400e-c54c-f98c1df4fa0c"
      },
      "outputs": [
        {
          "output_type": "stream",
          "name": "stdout",
          "text": [
            "Collecting ultralytics\n",
            "  Downloading ultralytics-8.3.49-py3-none-any.whl.metadata (35 kB)\n",
            "Requirement already satisfied: numpy>=1.23.0 in /usr/local/lib/python3.10/dist-packages (from ultralytics) (1.26.4)\n",
            "Requirement already satisfied: matplotlib>=3.3.0 in /usr/local/lib/python3.10/dist-packages (from ultralytics) (3.8.0)\n",
            "Requirement already satisfied: opencv-python>=4.6.0 in /usr/local/lib/python3.10/dist-packages (from ultralytics) (4.10.0.84)\n",
            "Requirement already satisfied: pillow>=7.1.2 in /usr/local/lib/python3.10/dist-packages (from ultralytics) (11.0.0)\n",
            "Requirement already satisfied: pyyaml>=5.3.1 in /usr/local/lib/python3.10/dist-packages (from ultralytics) (6.0.2)\n",
            "Requirement already satisfied: requests>=2.23.0 in /usr/local/lib/python3.10/dist-packages (from ultralytics) (2.32.3)\n",
            "Requirement already satisfied: scipy>=1.4.1 in /usr/local/lib/python3.10/dist-packages (from ultralytics) (1.13.1)\n",
            "Requirement already satisfied: torch>=1.8.0 in /usr/local/lib/python3.10/dist-packages (from ultralytics) (2.5.1+cu121)\n",
            "Requirement already satisfied: torchvision>=0.9.0 in /usr/local/lib/python3.10/dist-packages (from ultralytics) (0.20.1+cu121)\n",
            "Requirement already satisfied: tqdm>=4.64.0 in /usr/local/lib/python3.10/dist-packages (from ultralytics) (4.66.6)\n",
            "Requirement already satisfied: psutil in /usr/local/lib/python3.10/dist-packages (from ultralytics) (5.9.5)\n",
            "Requirement already satisfied: py-cpuinfo in /usr/local/lib/python3.10/dist-packages (from ultralytics) (9.0.0)\n",
            "Requirement already satisfied: pandas>=1.1.4 in /usr/local/lib/python3.10/dist-packages (from ultralytics) (2.2.2)\n",
            "Requirement already satisfied: seaborn>=0.11.0 in /usr/local/lib/python3.10/dist-packages (from ultralytics) (0.13.2)\n",
            "Collecting ultralytics-thop>=2.0.0 (from ultralytics)\n",
            "  Downloading ultralytics_thop-2.0.13-py3-none-any.whl.metadata (9.4 kB)\n",
            "Requirement already satisfied: contourpy>=1.0.1 in /usr/local/lib/python3.10/dist-packages (from matplotlib>=3.3.0->ultralytics) (1.3.1)\n",
            "Requirement already satisfied: cycler>=0.10 in /usr/local/lib/python3.10/dist-packages (from matplotlib>=3.3.0->ultralytics) (0.12.1)\n",
            "Requirement already satisfied: fonttools>=4.22.0 in /usr/local/lib/python3.10/dist-packages (from matplotlib>=3.3.0->ultralytics) (4.55.3)\n",
            "Requirement already satisfied: kiwisolver>=1.0.1 in /usr/local/lib/python3.10/dist-packages (from matplotlib>=3.3.0->ultralytics) (1.4.7)\n",
            "Requirement already satisfied: packaging>=20.0 in /usr/local/lib/python3.10/dist-packages (from matplotlib>=3.3.0->ultralytics) (24.2)\n",
            "Requirement already satisfied: pyparsing>=2.3.1 in /usr/local/lib/python3.10/dist-packages (from matplotlib>=3.3.0->ultralytics) (3.2.0)\n",
            "Requirement already satisfied: python-dateutil>=2.7 in /usr/local/lib/python3.10/dist-packages (from matplotlib>=3.3.0->ultralytics) (2.8.2)\n",
            "Requirement already satisfied: pytz>=2020.1 in /usr/local/lib/python3.10/dist-packages (from pandas>=1.1.4->ultralytics) (2024.2)\n",
            "Requirement already satisfied: tzdata>=2022.7 in /usr/local/lib/python3.10/dist-packages (from pandas>=1.1.4->ultralytics) (2024.2)\n",
            "Requirement already satisfied: charset-normalizer<4,>=2 in /usr/local/lib/python3.10/dist-packages (from requests>=2.23.0->ultralytics) (3.4.0)\n",
            "Requirement already satisfied: idna<4,>=2.5 in /usr/local/lib/python3.10/dist-packages (from requests>=2.23.0->ultralytics) (3.10)\n",
            "Requirement already satisfied: urllib3<3,>=1.21.1 in /usr/local/lib/python3.10/dist-packages (from requests>=2.23.0->ultralytics) (2.2.3)\n",
            "Requirement already satisfied: certifi>=2017.4.17 in /usr/local/lib/python3.10/dist-packages (from requests>=2.23.0->ultralytics) (2024.8.30)\n",
            "Requirement already satisfied: filelock in /usr/local/lib/python3.10/dist-packages (from torch>=1.8.0->ultralytics) (3.16.1)\n",
            "Requirement already satisfied: typing-extensions>=4.8.0 in /usr/local/lib/python3.10/dist-packages (from torch>=1.8.0->ultralytics) (4.12.2)\n",
            "Requirement already satisfied: networkx in /usr/local/lib/python3.10/dist-packages (from torch>=1.8.0->ultralytics) (3.4.2)\n",
            "Requirement already satisfied: jinja2 in /usr/local/lib/python3.10/dist-packages (from torch>=1.8.0->ultralytics) (3.1.4)\n",
            "Requirement already satisfied: fsspec in /usr/local/lib/python3.10/dist-packages (from torch>=1.8.0->ultralytics) (2024.10.0)\n",
            "Requirement already satisfied: sympy==1.13.1 in /usr/local/lib/python3.10/dist-packages (from torch>=1.8.0->ultralytics) (1.13.1)\n",
            "Requirement already satisfied: mpmath<1.4,>=1.1.0 in /usr/local/lib/python3.10/dist-packages (from sympy==1.13.1->torch>=1.8.0->ultralytics) (1.3.0)\n",
            "Requirement already satisfied: six>=1.5 in /usr/local/lib/python3.10/dist-packages (from python-dateutil>=2.7->matplotlib>=3.3.0->ultralytics) (1.17.0)\n",
            "Requirement already satisfied: MarkupSafe>=2.0 in /usr/local/lib/python3.10/dist-packages (from jinja2->torch>=1.8.0->ultralytics) (3.0.2)\n",
            "Downloading ultralytics-8.3.49-py3-none-any.whl (898 kB)\n",
            "\u001b[2K   \u001b[90m━━━━━━━━━━━━━━━━━━━━━━━━━━━━━━━━━━━━━━━━\u001b[0m \u001b[32m898.7/898.7 kB\u001b[0m \u001b[31m15.1 MB/s\u001b[0m eta \u001b[36m0:00:00\u001b[0m\n",
            "\u001b[?25hDownloading ultralytics_thop-2.0.13-py3-none-any.whl (26 kB)\n",
            "Installing collected packages: ultralytics-thop, ultralytics\n",
            "Successfully installed ultralytics-8.3.49 ultralytics-thop-2.0.13\n",
            "Creating new Ultralytics Settings v0.0.6 file ✅ \n",
            "View Ultralytics Settings with 'yolo settings' or at '/root/.config/Ultralytics/settings.json'\n",
            "Update Settings with 'yolo settings key=value', i.e. 'yolo settings runs_dir=path/to/dir'. For help see https://docs.ultralytics.com/quickstart/#ultralytics-settings.\n"
          ]
        }
      ],
      "source": [
        "# Paso 1: Instalar las dependencias necesarias\n",
        "!pip install ultralytics\n",
        "\n",
        "# Paso 2: Importar las librerías necesarias\n",
        "import os\n",
        "from ultralytics import RTDETR\n",
        "from sklearn.metrics import confusion_matrix, accuracy_score\n",
        "import numpy as np\n",
        "from google.colab import drive\n",
        "import json\n",
        "import yaml\n",
        "import matplotlib.pyplot as plt\n",
        "import seaborn as sns\n",
        "import torch"
      ]
    },
    {
      "cell_type": "code",
      "source": [
        "# Paso 3: Montar Google Drive\n",
        "drive.mount('/content/drive')\n",
        "\n",
        "# Paso 4: Configurar rutas de los datos en Google Drive\n",
        "dataset_path = '/content/drive/MyDrive/dataset-models'\n",
        "\n",
        "# Paso 5: Cargar el modelo RT-DETR-L preentrenado de Ultralytics\n",
        "device = 'cuda' if torch.cuda.is_available() else 'cpu'\n",
        "print(f\"Using device: {device}\")\n",
        "model = RTDETR(\"rtdetr-l.pt\").to(device)  # Cargar el modelo preentrenado RT-DETR-L\n",
        "\n",
        "# Paso 6: Cargar las imágenes y anotaciones en formato YOLO\n",
        "def load_yolo_annotations(data_path,an_path):\n",
        "    images = []\n",
        "    labels = []\n",
        "    for image_name in os.listdir(os.path.join(data_path)):\n",
        "        image_path = os.path.join(data_path, image_name)\n",
        "        label_path = os.path.join(an_path, image_name.replace('.jpg', '.txt'))  # asumiendo imágenes .jpg\n",
        "        if os.path.exists(label_path):\n",
        "            images.append(image_path)\n",
        "            with open(label_path, 'r') as f:\n",
        "                annotations = f.readlines()\n",
        "            labels.append([list(map(float, ann.strip().split())) for ann in annotations])\n",
        "    return images, labels\n"
      ],
      "metadata": {
        "id": "mhjxjH6WXY4o",
        "colab": {
          "base_uri": "https://localhost:8080/",
          "height": 356
        },
        "outputId": "38ca5d1d-39e2-4242-9ff5-b75ef324d322"
      },
      "execution_count": null,
      "outputs": [
        {
          "output_type": "error",
          "ename": "KeyboardInterrupt",
          "evalue": "",
          "traceback": [
            "\u001b[0;31m---------------------------------------------------------------------------\u001b[0m",
            "\u001b[0;31mKeyboardInterrupt\u001b[0m                         Traceback (most recent call last)",
            "\u001b[0;32m<ipython-input-3-101bd965d17b>\u001b[0m in \u001b[0;36m<cell line: 2>\u001b[0;34m()\u001b[0m\n\u001b[1;32m      1\u001b[0m \u001b[0;31m# Paso 3: Montar Google Drive\u001b[0m\u001b[0;34m\u001b[0m\u001b[0;34m\u001b[0m\u001b[0m\n\u001b[0;32m----> 2\u001b[0;31m \u001b[0mdrive\u001b[0m\u001b[0;34m.\u001b[0m\u001b[0mmount\u001b[0m\u001b[0;34m(\u001b[0m\u001b[0;34m'/content/drive'\u001b[0m\u001b[0;34m)\u001b[0m\u001b[0;34m\u001b[0m\u001b[0;34m\u001b[0m\u001b[0m\n\u001b[0m\u001b[1;32m      3\u001b[0m \u001b[0;34m\u001b[0m\u001b[0m\n\u001b[1;32m      4\u001b[0m \u001b[0;31m# Paso 4: Configurar rutas de los datos en Google Drive\u001b[0m\u001b[0;34m\u001b[0m\u001b[0;34m\u001b[0m\u001b[0m\n\u001b[1;32m      5\u001b[0m \u001b[0mdataset_path\u001b[0m \u001b[0;34m=\u001b[0m \u001b[0;34m'/content/drive/MyDrive/dataset-models'\u001b[0m\u001b[0;34m\u001b[0m\u001b[0;34m\u001b[0m\u001b[0m\n",
            "\u001b[0;32m/usr/local/lib/python3.10/dist-packages/google/colab/drive.py\u001b[0m in \u001b[0;36mmount\u001b[0;34m(mountpoint, force_remount, timeout_ms, readonly)\u001b[0m\n\u001b[1;32m     98\u001b[0m \u001b[0;32mdef\u001b[0m \u001b[0mmount\u001b[0m\u001b[0;34m(\u001b[0m\u001b[0mmountpoint\u001b[0m\u001b[0;34m,\u001b[0m \u001b[0mforce_remount\u001b[0m\u001b[0;34m=\u001b[0m\u001b[0;32mFalse\u001b[0m\u001b[0;34m,\u001b[0m \u001b[0mtimeout_ms\u001b[0m\u001b[0;34m=\u001b[0m\u001b[0;36m120000\u001b[0m\u001b[0;34m,\u001b[0m \u001b[0mreadonly\u001b[0m\u001b[0;34m=\u001b[0m\u001b[0;32mFalse\u001b[0m\u001b[0;34m)\u001b[0m\u001b[0;34m:\u001b[0m\u001b[0;34m\u001b[0m\u001b[0;34m\u001b[0m\u001b[0m\n\u001b[1;32m     99\u001b[0m   \u001b[0;34m\"\"\"Mount your Google Drive at the specified mountpoint path.\"\"\"\u001b[0m\u001b[0;34m\u001b[0m\u001b[0;34m\u001b[0m\u001b[0m\n\u001b[0;32m--> 100\u001b[0;31m   return _mount(\n\u001b[0m\u001b[1;32m    101\u001b[0m       \u001b[0mmountpoint\u001b[0m\u001b[0;34m,\u001b[0m\u001b[0;34m\u001b[0m\u001b[0;34m\u001b[0m\u001b[0m\n\u001b[1;32m    102\u001b[0m       \u001b[0mforce_remount\u001b[0m\u001b[0;34m=\u001b[0m\u001b[0mforce_remount\u001b[0m\u001b[0;34m,\u001b[0m\u001b[0;34m\u001b[0m\u001b[0;34m\u001b[0m\u001b[0m\n",
            "\u001b[0;32m/usr/local/lib/python3.10/dist-packages/google/colab/drive.py\u001b[0m in \u001b[0;36m_mount\u001b[0;34m(mountpoint, force_remount, timeout_ms, ephemeral, readonly)\u001b[0m\n\u001b[1;32m    255\u001b[0m \u001b[0;34m\u001b[0m\u001b[0m\n\u001b[1;32m    256\u001b[0m   \u001b[0;32mwhile\u001b[0m \u001b[0;32mTrue\u001b[0m\u001b[0;34m:\u001b[0m\u001b[0;34m\u001b[0m\u001b[0;34m\u001b[0m\u001b[0m\n\u001b[0;32m--> 257\u001b[0;31m     case = d.expect([\n\u001b[0m\u001b[1;32m    258\u001b[0m         \u001b[0msuccess\u001b[0m\u001b[0;34m,\u001b[0m\u001b[0;34m\u001b[0m\u001b[0;34m\u001b[0m\u001b[0m\n\u001b[1;32m    259\u001b[0m         \u001b[0mprompt\u001b[0m\u001b[0;34m,\u001b[0m\u001b[0;34m\u001b[0m\u001b[0;34m\u001b[0m\u001b[0m\n",
            "\u001b[0;32m/usr/local/lib/python3.10/dist-packages/pexpect/spawnbase.py\u001b[0m in \u001b[0;36mexpect\u001b[0;34m(self, pattern, timeout, searchwindowsize, async_, **kw)\u001b[0m\n\u001b[1;32m    352\u001b[0m \u001b[0;34m\u001b[0m\u001b[0m\n\u001b[1;32m    353\u001b[0m         \u001b[0mcompiled_pattern_list\u001b[0m \u001b[0;34m=\u001b[0m \u001b[0mself\u001b[0m\u001b[0;34m.\u001b[0m\u001b[0mcompile_pattern_list\u001b[0m\u001b[0;34m(\u001b[0m\u001b[0mpattern\u001b[0m\u001b[0;34m)\u001b[0m\u001b[0;34m\u001b[0m\u001b[0;34m\u001b[0m\u001b[0m\n\u001b[0;32m--> 354\u001b[0;31m         return self.expect_list(compiled_pattern_list,\n\u001b[0m\u001b[1;32m    355\u001b[0m                 timeout, searchwindowsize, async_)\n\u001b[1;32m    356\u001b[0m \u001b[0;34m\u001b[0m\u001b[0m\n",
            "\u001b[0;32m/usr/local/lib/python3.10/dist-packages/pexpect/spawnbase.py\u001b[0m in \u001b[0;36mexpect_list\u001b[0;34m(self, pattern_list, timeout, searchwindowsize, async_, **kw)\u001b[0m\n\u001b[1;32m    381\u001b[0m             \u001b[0;32mreturn\u001b[0m \u001b[0mexpect_async\u001b[0m\u001b[0;34m(\u001b[0m\u001b[0mexp\u001b[0m\u001b[0;34m,\u001b[0m \u001b[0mtimeout\u001b[0m\u001b[0;34m)\u001b[0m\u001b[0;34m\u001b[0m\u001b[0;34m\u001b[0m\u001b[0m\n\u001b[1;32m    382\u001b[0m         \u001b[0;32melse\u001b[0m\u001b[0;34m:\u001b[0m\u001b[0;34m\u001b[0m\u001b[0;34m\u001b[0m\u001b[0m\n\u001b[0;32m--> 383\u001b[0;31m             \u001b[0;32mreturn\u001b[0m \u001b[0mexp\u001b[0m\u001b[0;34m.\u001b[0m\u001b[0mexpect_loop\u001b[0m\u001b[0;34m(\u001b[0m\u001b[0mtimeout\u001b[0m\u001b[0;34m)\u001b[0m\u001b[0;34m\u001b[0m\u001b[0;34m\u001b[0m\u001b[0m\n\u001b[0m\u001b[1;32m    384\u001b[0m \u001b[0;34m\u001b[0m\u001b[0m\n\u001b[1;32m    385\u001b[0m     def expect_exact(self, pattern_list, timeout=-1, searchwindowsize=-1,\n",
            "\u001b[0;32m/usr/local/lib/python3.10/dist-packages/pexpect/expect.py\u001b[0m in \u001b[0;36mexpect_loop\u001b[0;34m(self, timeout)\u001b[0m\n\u001b[1;32m    169\u001b[0m                 \u001b[0mincoming\u001b[0m \u001b[0;34m=\u001b[0m \u001b[0mspawn\u001b[0m\u001b[0;34m.\u001b[0m\u001b[0mread_nonblocking\u001b[0m\u001b[0;34m(\u001b[0m\u001b[0mspawn\u001b[0m\u001b[0;34m.\u001b[0m\u001b[0mmaxread\u001b[0m\u001b[0;34m,\u001b[0m \u001b[0mtimeout\u001b[0m\u001b[0;34m)\u001b[0m\u001b[0;34m\u001b[0m\u001b[0;34m\u001b[0m\u001b[0m\n\u001b[1;32m    170\u001b[0m                 \u001b[0;32mif\u001b[0m \u001b[0mself\u001b[0m\u001b[0;34m.\u001b[0m\u001b[0mspawn\u001b[0m\u001b[0;34m.\u001b[0m\u001b[0mdelayafterread\u001b[0m \u001b[0;32mis\u001b[0m \u001b[0;32mnot\u001b[0m \u001b[0;32mNone\u001b[0m\u001b[0;34m:\u001b[0m\u001b[0;34m\u001b[0m\u001b[0;34m\u001b[0m\u001b[0m\n\u001b[0;32m--> 171\u001b[0;31m                     \u001b[0mtime\u001b[0m\u001b[0;34m.\u001b[0m\u001b[0msleep\u001b[0m\u001b[0;34m(\u001b[0m\u001b[0mself\u001b[0m\u001b[0;34m.\u001b[0m\u001b[0mspawn\u001b[0m\u001b[0;34m.\u001b[0m\u001b[0mdelayafterread\u001b[0m\u001b[0;34m)\u001b[0m\u001b[0;34m\u001b[0m\u001b[0;34m\u001b[0m\u001b[0m\n\u001b[0m\u001b[1;32m    172\u001b[0m                 \u001b[0midx\u001b[0m \u001b[0;34m=\u001b[0m \u001b[0mself\u001b[0m\u001b[0;34m.\u001b[0m\u001b[0mnew_data\u001b[0m\u001b[0;34m(\u001b[0m\u001b[0mincoming\u001b[0m\u001b[0;34m)\u001b[0m\u001b[0;34m\u001b[0m\u001b[0;34m\u001b[0m\u001b[0m\n\u001b[1;32m    173\u001b[0m                 \u001b[0;31m# Keep reading until exception or return.\u001b[0m\u001b[0;34m\u001b[0m\u001b[0;34m\u001b[0m\u001b[0m\n",
            "\u001b[0;31mKeyboardInterrupt\u001b[0m: "
          ]
        }
      ]
    },
    {
      "cell_type": "code",
      "source": [
        "# Paso 7: Crear paths\n",
        "train_im_path = os.path.join(dataset_path, 'images/train')\n",
        "val_im_path = os.path.join(dataset_path, 'images/val')\n",
        "test_im_path = os.path.join(dataset_path, 'images/test')\n",
        "train_an_path = os.path.join(dataset_path, 'labels/train')\n",
        "val_an_path = os.path.join(dataset_path, 'labels/val')\n",
        "test_an_path = os.path.join(dataset_path, 'labels/test')"
      ],
      "metadata": {
        "id": "lH3zXupel3OE"
      },
      "execution_count": null,
      "outputs": []
    },
    {
      "cell_type": "code",
      "source": [
        "# Paso 8: Entrenamiento del modelo utilizando el dataset de entrenamiento y validación\n",
        "# Iniciar fine-tuning con el modelo preentrenado\n",
        "results = model.train(data=\"/content/drive/MyDrive/dataset-models/yolo-config/train.yaml\", epochs=20, imgsz=512)"
      ],
      "metadata": {
        "id": "8nbgJ1dVl7U6",
        "colab": {
          "base_uri": "https://localhost:8080/",
          "height": 1000
        },
        "outputId": "ab9e4cec-1c39-44d6-97f9-314ceda57467"
      },
      "execution_count": null,
      "outputs": [
        {
          "output_type": "stream",
          "name": "stdout",
          "text": [
            "Ultralytics 8.3.49 🚀 Python-3.10.12 torch-2.5.1+cu121 CUDA:0 (Tesla T4, 15102MiB)\n",
            "\u001b[34m\u001b[1mengine/trainer: \u001b[0mtask=detect, mode=train, model=/content/drive/MyDrive/rtdetr_model.pt, data=/content/drive/MyDrive/dataset-models/yolo-config/train.yaml, epochs=1, time=None, patience=100, batch=16, imgsz=512, save=True, save_period=-1, cache=False, device=None, workers=8, project=None, name=train, exist_ok=False, pretrained=True, optimizer=auto, verbose=True, seed=0, deterministic=True, single_cls=False, rect=False, cos_lr=False, close_mosaic=10, resume=False, amp=True, fraction=1.0, profile=False, freeze=None, multi_scale=False, overlap_mask=True, mask_ratio=4, dropout=0.0, val=True, split=val, save_json=False, save_hybrid=False, conf=None, iou=0.7, max_det=300, half=False, dnn=False, plots=True, source=None, vid_stride=1, stream_buffer=False, visualize=False, augment=False, agnostic_nms=False, classes=None, retina_masks=False, embed=None, show=False, save_frames=False, save_txt=False, save_conf=False, save_crop=False, show_labels=True, show_conf=True, show_boxes=True, line_width=None, format=torchscript, keras=False, optimize=False, int8=False, dynamic=False, simplify=True, opset=None, workspace=None, nms=False, lr0=0.01, lrf=0.01, momentum=0.937, weight_decay=0.0005, warmup_epochs=3.0, warmup_momentum=0.8, warmup_bias_lr=0.1, box=7.5, cls=0.5, dfl=1.5, pose=12.0, kobj=1.0, nbs=64, hsv_h=0.015, hsv_s=0.7, hsv_v=0.4, degrees=0.0, translate=0.1, scale=0.5, shear=0.0, perspective=0.0, flipud=0.0, fliplr=0.5, bgr=0.0, mosaic=1.0, mixup=0.0, copy_paste=0.0, copy_paste_mode=flip, auto_augment=randaugment, erasing=0.4, crop_fraction=1.0, cfg=None, tracker=botsort.yaml, save_dir=runs/detect/train\n",
            "WARNING ⚠️ no model scale passed. Assuming scale='l'.\n",
            "\n",
            "                   from  n    params  module                                       arguments                     \n",
            "  0                  -1  1     25248  ultralytics.nn.modules.block.HGStem          [3, 32, 48]                   \n",
            "  1                  -1  6    155072  ultralytics.nn.modules.block.HGBlock         [48, 48, 128, 3, 6]           \n",
            "  2                  -1  1      1408  ultralytics.nn.modules.conv.DWConv           [128, 128, 3, 2, 1, False]    \n",
            "  3                  -1  6    839296  ultralytics.nn.modules.block.HGBlock         [128, 96, 512, 3, 6]          \n",
            "  4                  -1  1      5632  ultralytics.nn.modules.conv.DWConv           [512, 512, 3, 2, 1, False]    \n",
            "  5                  -1  6   1695360  ultralytics.nn.modules.block.HGBlock         [512, 192, 1024, 5, 6, True, False]\n",
            "  6                  -1  6   2055808  ultralytics.nn.modules.block.HGBlock         [1024, 192, 1024, 5, 6, True, True]\n",
            "  7                  -1  6   2055808  ultralytics.nn.modules.block.HGBlock         [1024, 192, 1024, 5, 6, True, True]\n",
            "  8                  -1  1     11264  ultralytics.nn.modules.conv.DWConv           [1024, 1024, 3, 2, 1, False]  \n",
            "  9                  -1  6   6708480  ultralytics.nn.modules.block.HGBlock         [1024, 384, 2048, 5, 6, True, False]\n",
            " 10                  -1  1    524800  ultralytics.nn.modules.conv.Conv             [2048, 256, 1, 1, None, 1, 1, False]\n",
            " 11                  -1  1    789760  ultralytics.nn.modules.transformer.AIFI      [256, 1024, 8]                \n",
            " 12                  -1  1     66048  ultralytics.nn.modules.conv.Conv             [256, 256, 1, 1]              \n",
            " 13                  -1  1         0  torch.nn.modules.upsampling.Upsample         [None, 2, 'nearest']          \n",
            " 14                   7  1    262656  ultralytics.nn.modules.conv.Conv             [1024, 256, 1, 1, None, 1, 1, False]\n",
            " 15            [-2, -1]  1         0  ultralytics.nn.modules.conv.Concat           [1]                           \n",
            " 16                  -1  3   2232320  ultralytics.nn.modules.block.RepC3           [512, 256, 3]                 \n",
            " 17                  -1  1     66048  ultralytics.nn.modules.conv.Conv             [256, 256, 1, 1]              \n",
            " 18                  -1  1         0  torch.nn.modules.upsampling.Upsample         [None, 2, 'nearest']          \n",
            " 19                   3  1    131584  ultralytics.nn.modules.conv.Conv             [512, 256, 1, 1, None, 1, 1, False]\n",
            " 20            [-2, -1]  1         0  ultralytics.nn.modules.conv.Concat           [1]                           \n",
            " 21                  -1  3   2232320  ultralytics.nn.modules.block.RepC3           [512, 256, 3]                 \n",
            " 22                  -1  1    590336  ultralytics.nn.modules.conv.Conv             [256, 256, 3, 2]              \n",
            " 23            [-1, 17]  1         0  ultralytics.nn.modules.conv.Concat           [1]                           \n",
            " 24                  -1  3   2232320  ultralytics.nn.modules.block.RepC3           [512, 256, 3]                 \n",
            " 25                  -1  1    590336  ultralytics.nn.modules.conv.Conv             [256, 256, 3, 2]              \n",
            " 26            [-1, 12]  1         0  ultralytics.nn.modules.conv.Concat           [1]                           \n",
            " 27                  -1  3   2232320  ultralytics.nn.modules.block.RepC3           [512, 256, 3]                 \n",
            " 28        [21, 24, 27]  1   7312127  ultralytics.nn.modules.head.RTDETRDecoder    [5, [256, 256, 256]]          \n",
            "rt-detr-l summary: 681 layers, 32,816,351 parameters, 32,816,351 gradients, 108.0 GFLOPs\n",
            "\n",
            "Transferred 322/941 items from pretrained weights\n",
            "\u001b[34m\u001b[1mTensorBoard: \u001b[0mStart with 'tensorboard --logdir runs/detect/train', view at http://localhost:6006/\n",
            "\u001b[34m\u001b[1mAMP: \u001b[0mrunning Automatic Mixed Precision (AMP) checks...\n",
            "Downloading https://github.com/ultralytics/assets/releases/download/v8.3.0/yolo11n.pt to 'yolo11n.pt'...\n"
          ]
        },
        {
          "output_type": "stream",
          "name": "stderr",
          "text": [
            "100%|██████████| 5.35M/5.35M [00:00<00:00, 127MB/s]\n"
          ]
        },
        {
          "output_type": "stream",
          "name": "stdout",
          "text": [
            "\u001b[34m\u001b[1mAMP: \u001b[0mchecks passed ✅\n"
          ]
        },
        {
          "output_type": "stream",
          "name": "stderr",
          "text": [
            "\u001b[34m\u001b[1mtrain: \u001b[0mScanning /content/drive/MyDrive/dataset-models/labels/train.cache... 6512 images, 0 backgrounds, 0 corrupt: 100%|██████████| 6512/6512 [00:00<?, ?it/s]"
          ]
        },
        {
          "output_type": "stream",
          "name": "stdout",
          "text": [
            "\u001b[34m\u001b[1mtrain: \u001b[0mWARNING ⚠️ /content/drive/MyDrive/dataset-models/images/train/plastic_1886.jpg: corrupt JPEG restored and saved\n"
          ]
        },
        {
          "output_type": "stream",
          "name": "stderr",
          "text": [
            "\n"
          ]
        },
        {
          "output_type": "stream",
          "name": "stdout",
          "text": [
            "\u001b[34m\u001b[1malbumentations: \u001b[0mBlur(p=0.01, blur_limit=(3, 7)), MedianBlur(p=0.01, blur_limit=(3, 7)), ToGray(p=0.01, num_output_channels=3, method='weighted_average'), CLAHE(p=0.01, clip_limit=(1.0, 4.0), tile_grid_size=(8, 8))\n"
          ]
        },
        {
          "output_type": "stream",
          "name": "stderr",
          "text": [
            "/usr/local/lib/python3.10/dist-packages/albumentations/__init__.py:24: UserWarning: A new version of Albumentations is available: 1.4.22 (you have 1.4.20). Upgrade using: pip install -U albumentations. To disable automatic update checks, set the environment variable NO_ALBUMENTATIONS_UPDATE to 1.\n",
            "  check_for_updates()\n",
            "\u001b[34m\u001b[1mval: \u001b[0mScanning /content/drive/MyDrive/dataset-models/labels/val.cache... 1863 images, 0 backgrounds, 0 corrupt: 100%|██████████| 1863/1863 [00:00<?, ?it/s]\n"
          ]
        },
        {
          "output_type": "stream",
          "name": "stdout",
          "text": [
            "Plotting labels to runs/detect/train/labels.jpg... \n",
            "\u001b[34m\u001b[1moptimizer:\u001b[0m 'optimizer=auto' found, ignoring 'lr0=0.01' and 'momentum=0.937' and determining best 'optimizer', 'lr0' and 'momentum' automatically... \n",
            "\u001b[34m\u001b[1moptimizer:\u001b[0m AdamW(lr=0.001111, momentum=0.9) with parameter groups 143 weight(decay=0.0), 206 weight(decay=0.0005), 226 bias(decay=0.0)\n",
            "\u001b[34m\u001b[1mTensorBoard: \u001b[0mmodel graph visualization added ✅\n",
            "Image sizes 512 train, 512 val\n",
            "Using 2 dataloader workers\n",
            "Logging results to \u001b[1mruns/detect/train\u001b[0m\n",
            "Starting training for 1 epochs...\n",
            "\n",
            "      Epoch    GPU_mem   box_loss   cls_loss   dfl_loss  Instances       Size\n"
          ]
        },
        {
          "output_type": "stream",
          "name": "stderr",
          "text": [
            "  0%|          | 0/407 [00:00<?, ?it/s]\n"
          ]
        },
        {
          "output_type": "error",
          "ename": "AttributeError",
          "evalue": "'RTDETRDecoder' object has no attribute 'stride'",
          "traceback": [
            "\u001b[0;31m---------------------------------------------------------------------------\u001b[0m",
            "\u001b[0;31mAttributeError\u001b[0m                            Traceback (most recent call last)",
            "\u001b[0;32m<ipython-input-10-97e3cdeafe7c>\u001b[0m in \u001b[0;36m<cell line: 3>\u001b[0;34m()\u001b[0m\n\u001b[1;32m      1\u001b[0m \u001b[0;31m# Paso 8: Entrenamiento del modelo utilizando el dataset de entrenamiento y validación\u001b[0m\u001b[0;34m\u001b[0m\u001b[0;34m\u001b[0m\u001b[0m\n\u001b[1;32m      2\u001b[0m \u001b[0;31m# Iniciar fine-tuning con el modelo preentrenado\u001b[0m\u001b[0;34m\u001b[0m\u001b[0;34m\u001b[0m\u001b[0m\n\u001b[0;32m----> 3\u001b[0;31m \u001b[0mresults\u001b[0m \u001b[0;34m=\u001b[0m \u001b[0mmodel\u001b[0m\u001b[0;34m.\u001b[0m\u001b[0mtrain\u001b[0m\u001b[0;34m(\u001b[0m\u001b[0mdata\u001b[0m\u001b[0;34m=\u001b[0m\u001b[0;34m\"/content/drive/MyDrive/dataset-models/yolo-config/train.yaml\"\u001b[0m\u001b[0;34m,\u001b[0m \u001b[0mepochs\u001b[0m\u001b[0;34m=\u001b[0m\u001b[0;36m1\u001b[0m\u001b[0;34m,\u001b[0m \u001b[0mimgsz\u001b[0m\u001b[0;34m=\u001b[0m\u001b[0;36m512\u001b[0m\u001b[0;34m)\u001b[0m\u001b[0;34m\u001b[0m\u001b[0;34m\u001b[0m\u001b[0m\n\u001b[0m",
            "\u001b[0;32m/usr/local/lib/python3.10/dist-packages/ultralytics/engine/model.py\u001b[0m in \u001b[0;36mtrain\u001b[0;34m(self, trainer, **kwargs)\u001b[0m\n\u001b[1;32m    804\u001b[0m \u001b[0;34m\u001b[0m\u001b[0m\n\u001b[1;32m    805\u001b[0m         \u001b[0mself\u001b[0m\u001b[0;34m.\u001b[0m\u001b[0mtrainer\u001b[0m\u001b[0;34m.\u001b[0m\u001b[0mhub_session\u001b[0m \u001b[0;34m=\u001b[0m \u001b[0mself\u001b[0m\u001b[0;34m.\u001b[0m\u001b[0msession\u001b[0m  \u001b[0;31m# attach optional HUB session\u001b[0m\u001b[0;34m\u001b[0m\u001b[0;34m\u001b[0m\u001b[0m\n\u001b[0;32m--> 806\u001b[0;31m         \u001b[0mself\u001b[0m\u001b[0;34m.\u001b[0m\u001b[0mtrainer\u001b[0m\u001b[0;34m.\u001b[0m\u001b[0mtrain\u001b[0m\u001b[0;34m(\u001b[0m\u001b[0;34m)\u001b[0m\u001b[0;34m\u001b[0m\u001b[0;34m\u001b[0m\u001b[0m\n\u001b[0m\u001b[1;32m    807\u001b[0m         \u001b[0;31m# Update model and cfg after training\u001b[0m\u001b[0;34m\u001b[0m\u001b[0;34m\u001b[0m\u001b[0m\n\u001b[1;32m    808\u001b[0m         \u001b[0;32mif\u001b[0m \u001b[0mRANK\u001b[0m \u001b[0;32min\u001b[0m \u001b[0;34m{\u001b[0m\u001b[0;34m-\u001b[0m\u001b[0;36m1\u001b[0m\u001b[0;34m,\u001b[0m \u001b[0;36m0\u001b[0m\u001b[0;34m}\u001b[0m\u001b[0;34m:\u001b[0m\u001b[0;34m\u001b[0m\u001b[0;34m\u001b[0m\u001b[0m\n",
            "\u001b[0;32m/usr/local/lib/python3.10/dist-packages/ultralytics/engine/trainer.py\u001b[0m in \u001b[0;36mtrain\u001b[0;34m(self)\u001b[0m\n\u001b[1;32m    205\u001b[0m \u001b[0;34m\u001b[0m\u001b[0m\n\u001b[1;32m    206\u001b[0m         \u001b[0;32melse\u001b[0m\u001b[0;34m:\u001b[0m\u001b[0;34m\u001b[0m\u001b[0;34m\u001b[0m\u001b[0m\n\u001b[0;32m--> 207\u001b[0;31m             \u001b[0mself\u001b[0m\u001b[0;34m.\u001b[0m\u001b[0m_do_train\u001b[0m\u001b[0;34m(\u001b[0m\u001b[0mworld_size\u001b[0m\u001b[0;34m)\u001b[0m\u001b[0;34m\u001b[0m\u001b[0;34m\u001b[0m\u001b[0m\n\u001b[0m\u001b[1;32m    208\u001b[0m \u001b[0;34m\u001b[0m\u001b[0m\n\u001b[1;32m    209\u001b[0m     \u001b[0;32mdef\u001b[0m \u001b[0m_setup_scheduler\u001b[0m\u001b[0;34m(\u001b[0m\u001b[0mself\u001b[0m\u001b[0;34m)\u001b[0m\u001b[0;34m:\u001b[0m\u001b[0;34m\u001b[0m\u001b[0;34m\u001b[0m\u001b[0m\n",
            "\u001b[0;32m/usr/local/lib/python3.10/dist-packages/ultralytics/engine/trainer.py\u001b[0m in \u001b[0;36m_do_train\u001b[0;34m(self, world_size)\u001b[0m\n\u001b[1;32m    378\u001b[0m                 \u001b[0;32mwith\u001b[0m \u001b[0mautocast\u001b[0m\u001b[0;34m(\u001b[0m\u001b[0mself\u001b[0m\u001b[0;34m.\u001b[0m\u001b[0mamp\u001b[0m\u001b[0;34m)\u001b[0m\u001b[0;34m:\u001b[0m\u001b[0;34m\u001b[0m\u001b[0;34m\u001b[0m\u001b[0m\n\u001b[1;32m    379\u001b[0m                     \u001b[0mbatch\u001b[0m \u001b[0;34m=\u001b[0m \u001b[0mself\u001b[0m\u001b[0;34m.\u001b[0m\u001b[0mpreprocess_batch\u001b[0m\u001b[0;34m(\u001b[0m\u001b[0mbatch\u001b[0m\u001b[0;34m)\u001b[0m\u001b[0;34m\u001b[0m\u001b[0;34m\u001b[0m\u001b[0m\n\u001b[0;32m--> 380\u001b[0;31m                     \u001b[0mself\u001b[0m\u001b[0;34m.\u001b[0m\u001b[0mloss\u001b[0m\u001b[0;34m,\u001b[0m \u001b[0mself\u001b[0m\u001b[0;34m.\u001b[0m\u001b[0mloss_items\u001b[0m \u001b[0;34m=\u001b[0m \u001b[0mself\u001b[0m\u001b[0;34m.\u001b[0m\u001b[0mmodel\u001b[0m\u001b[0;34m(\u001b[0m\u001b[0mbatch\u001b[0m\u001b[0;34m)\u001b[0m\u001b[0;34m\u001b[0m\u001b[0;34m\u001b[0m\u001b[0m\n\u001b[0m\u001b[1;32m    381\u001b[0m                     \u001b[0;32mif\u001b[0m \u001b[0mRANK\u001b[0m \u001b[0;34m!=\u001b[0m \u001b[0;34m-\u001b[0m\u001b[0;36m1\u001b[0m\u001b[0;34m:\u001b[0m\u001b[0;34m\u001b[0m\u001b[0;34m\u001b[0m\u001b[0m\n\u001b[1;32m    382\u001b[0m                         \u001b[0mself\u001b[0m\u001b[0;34m.\u001b[0m\u001b[0mloss\u001b[0m \u001b[0;34m*=\u001b[0m \u001b[0mworld_size\u001b[0m\u001b[0;34m\u001b[0m\u001b[0;34m\u001b[0m\u001b[0m\n",
            "\u001b[0;32m/usr/local/lib/python3.10/dist-packages/torch/nn/modules/module.py\u001b[0m in \u001b[0;36m_wrapped_call_impl\u001b[0;34m(self, *args, **kwargs)\u001b[0m\n\u001b[1;32m   1734\u001b[0m             \u001b[0;32mreturn\u001b[0m \u001b[0mself\u001b[0m\u001b[0;34m.\u001b[0m\u001b[0m_compiled_call_impl\u001b[0m\u001b[0;34m(\u001b[0m\u001b[0;34m*\u001b[0m\u001b[0margs\u001b[0m\u001b[0;34m,\u001b[0m \u001b[0;34m**\u001b[0m\u001b[0mkwargs\u001b[0m\u001b[0;34m)\u001b[0m  \u001b[0;31m# type: ignore[misc]\u001b[0m\u001b[0;34m\u001b[0m\u001b[0;34m\u001b[0m\u001b[0m\n\u001b[1;32m   1735\u001b[0m         \u001b[0;32melse\u001b[0m\u001b[0;34m:\u001b[0m\u001b[0;34m\u001b[0m\u001b[0;34m\u001b[0m\u001b[0m\n\u001b[0;32m-> 1736\u001b[0;31m             \u001b[0;32mreturn\u001b[0m \u001b[0mself\u001b[0m\u001b[0;34m.\u001b[0m\u001b[0m_call_impl\u001b[0m\u001b[0;34m(\u001b[0m\u001b[0;34m*\u001b[0m\u001b[0margs\u001b[0m\u001b[0;34m,\u001b[0m \u001b[0;34m**\u001b[0m\u001b[0mkwargs\u001b[0m\u001b[0;34m)\u001b[0m\u001b[0;34m\u001b[0m\u001b[0;34m\u001b[0m\u001b[0m\n\u001b[0m\u001b[1;32m   1737\u001b[0m \u001b[0;34m\u001b[0m\u001b[0m\n\u001b[1;32m   1738\u001b[0m     \u001b[0;31m# torchrec tests the code consistency with the following code\u001b[0m\u001b[0;34m\u001b[0m\u001b[0;34m\u001b[0m\u001b[0m\n",
            "\u001b[0;32m/usr/local/lib/python3.10/dist-packages/torch/nn/modules/module.py\u001b[0m in \u001b[0;36m_call_impl\u001b[0;34m(self, *args, **kwargs)\u001b[0m\n\u001b[1;32m   1745\u001b[0m                 \u001b[0;32mor\u001b[0m \u001b[0m_global_backward_pre_hooks\u001b[0m \u001b[0;32mor\u001b[0m \u001b[0m_global_backward_hooks\u001b[0m\u001b[0;34m\u001b[0m\u001b[0;34m\u001b[0m\u001b[0m\n\u001b[1;32m   1746\u001b[0m                 or _global_forward_hooks or _global_forward_pre_hooks):\n\u001b[0;32m-> 1747\u001b[0;31m             \u001b[0;32mreturn\u001b[0m \u001b[0mforward_call\u001b[0m\u001b[0;34m(\u001b[0m\u001b[0;34m*\u001b[0m\u001b[0margs\u001b[0m\u001b[0;34m,\u001b[0m \u001b[0;34m**\u001b[0m\u001b[0mkwargs\u001b[0m\u001b[0;34m)\u001b[0m\u001b[0;34m\u001b[0m\u001b[0;34m\u001b[0m\u001b[0m\n\u001b[0m\u001b[1;32m   1748\u001b[0m \u001b[0;34m\u001b[0m\u001b[0m\n\u001b[1;32m   1749\u001b[0m         \u001b[0mresult\u001b[0m \u001b[0;34m=\u001b[0m \u001b[0;32mNone\u001b[0m\u001b[0;34m\u001b[0m\u001b[0;34m\u001b[0m\u001b[0m\n",
            "\u001b[0;32m/usr/local/lib/python3.10/dist-packages/ultralytics/nn/tasks.py\u001b[0m in \u001b[0;36mforward\u001b[0;34m(self, x, *args, **kwargs)\u001b[0m\n\u001b[1;32m    109\u001b[0m         \"\"\"\n\u001b[1;32m    110\u001b[0m         \u001b[0;32mif\u001b[0m \u001b[0misinstance\u001b[0m\u001b[0;34m(\u001b[0m\u001b[0mx\u001b[0m\u001b[0;34m,\u001b[0m \u001b[0mdict\u001b[0m\u001b[0;34m)\u001b[0m\u001b[0;34m:\u001b[0m  \u001b[0;31m# for cases of training and validating while training.\u001b[0m\u001b[0;34m\u001b[0m\u001b[0;34m\u001b[0m\u001b[0m\n\u001b[0;32m--> 111\u001b[0;31m             \u001b[0;32mreturn\u001b[0m \u001b[0mself\u001b[0m\u001b[0;34m.\u001b[0m\u001b[0mloss\u001b[0m\u001b[0;34m(\u001b[0m\u001b[0mx\u001b[0m\u001b[0;34m,\u001b[0m \u001b[0;34m*\u001b[0m\u001b[0margs\u001b[0m\u001b[0;34m,\u001b[0m \u001b[0;34m**\u001b[0m\u001b[0mkwargs\u001b[0m\u001b[0;34m)\u001b[0m\u001b[0;34m\u001b[0m\u001b[0;34m\u001b[0m\u001b[0m\n\u001b[0m\u001b[1;32m    112\u001b[0m         \u001b[0;32mreturn\u001b[0m \u001b[0mself\u001b[0m\u001b[0;34m.\u001b[0m\u001b[0mpredict\u001b[0m\u001b[0;34m(\u001b[0m\u001b[0mx\u001b[0m\u001b[0;34m,\u001b[0m \u001b[0;34m*\u001b[0m\u001b[0margs\u001b[0m\u001b[0;34m,\u001b[0m \u001b[0;34m**\u001b[0m\u001b[0mkwargs\u001b[0m\u001b[0;34m)\u001b[0m\u001b[0;34m\u001b[0m\u001b[0;34m\u001b[0m\u001b[0m\n\u001b[1;32m    113\u001b[0m \u001b[0;34m\u001b[0m\u001b[0m\n",
            "\u001b[0;32m/usr/local/lib/python3.10/dist-packages/ultralytics/nn/tasks.py\u001b[0m in \u001b[0;36mloss\u001b[0;34m(self, batch, preds)\u001b[0m\n\u001b[1;32m    288\u001b[0m         \"\"\"\n\u001b[1;32m    289\u001b[0m         \u001b[0;32mif\u001b[0m \u001b[0mgetattr\u001b[0m\u001b[0;34m(\u001b[0m\u001b[0mself\u001b[0m\u001b[0;34m,\u001b[0m \u001b[0;34m\"criterion\"\u001b[0m\u001b[0;34m,\u001b[0m \u001b[0;32mNone\u001b[0m\u001b[0;34m)\u001b[0m \u001b[0;32mis\u001b[0m \u001b[0;32mNone\u001b[0m\u001b[0;34m:\u001b[0m\u001b[0;34m\u001b[0m\u001b[0;34m\u001b[0m\u001b[0m\n\u001b[0;32m--> 290\u001b[0;31m             \u001b[0mself\u001b[0m\u001b[0;34m.\u001b[0m\u001b[0mcriterion\u001b[0m \u001b[0;34m=\u001b[0m \u001b[0mself\u001b[0m\u001b[0;34m.\u001b[0m\u001b[0minit_criterion\u001b[0m\u001b[0;34m(\u001b[0m\u001b[0;34m)\u001b[0m\u001b[0;34m\u001b[0m\u001b[0;34m\u001b[0m\u001b[0m\n\u001b[0m\u001b[1;32m    291\u001b[0m \u001b[0;34m\u001b[0m\u001b[0m\n\u001b[1;32m    292\u001b[0m         \u001b[0mpreds\u001b[0m \u001b[0;34m=\u001b[0m \u001b[0mself\u001b[0m\u001b[0;34m.\u001b[0m\u001b[0mforward\u001b[0m\u001b[0;34m(\u001b[0m\u001b[0mbatch\u001b[0m\u001b[0;34m[\u001b[0m\u001b[0;34m\"img\"\u001b[0m\u001b[0;34m]\u001b[0m\u001b[0;34m)\u001b[0m \u001b[0;32mif\u001b[0m \u001b[0mpreds\u001b[0m \u001b[0;32mis\u001b[0m \u001b[0;32mNone\u001b[0m \u001b[0;32melse\u001b[0m \u001b[0mpreds\u001b[0m\u001b[0;34m\u001b[0m\u001b[0;34m\u001b[0m\u001b[0m\n",
            "\u001b[0;32m/usr/local/lib/python3.10/dist-packages/ultralytics/nn/tasks.py\u001b[0m in \u001b[0;36minit_criterion\u001b[0;34m(self)\u001b[0m\n\u001b[1;32m    387\u001b[0m     \u001b[0;32mdef\u001b[0m \u001b[0minit_criterion\u001b[0m\u001b[0;34m(\u001b[0m\u001b[0mself\u001b[0m\u001b[0;34m)\u001b[0m\u001b[0;34m:\u001b[0m\u001b[0;34m\u001b[0m\u001b[0;34m\u001b[0m\u001b[0m\n\u001b[1;32m    388\u001b[0m         \u001b[0;34m\"\"\"Initialize the loss criterion for the DetectionModel.\"\"\"\u001b[0m\u001b[0;34m\u001b[0m\u001b[0;34m\u001b[0m\u001b[0m\n\u001b[0;32m--> 389\u001b[0;31m         \u001b[0;32mreturn\u001b[0m \u001b[0mE2EDetectLoss\u001b[0m\u001b[0;34m(\u001b[0m\u001b[0mself\u001b[0m\u001b[0;34m)\u001b[0m \u001b[0;32mif\u001b[0m \u001b[0mgetattr\u001b[0m\u001b[0;34m(\u001b[0m\u001b[0mself\u001b[0m\u001b[0;34m,\u001b[0m \u001b[0;34m\"end2end\"\u001b[0m\u001b[0;34m,\u001b[0m \u001b[0;32mFalse\u001b[0m\u001b[0;34m)\u001b[0m \u001b[0;32melse\u001b[0m \u001b[0mv8DetectionLoss\u001b[0m\u001b[0;34m(\u001b[0m\u001b[0mself\u001b[0m\u001b[0;34m)\u001b[0m\u001b[0;34m\u001b[0m\u001b[0;34m\u001b[0m\u001b[0m\n\u001b[0m\u001b[1;32m    390\u001b[0m \u001b[0;34m\u001b[0m\u001b[0m\n\u001b[1;32m    391\u001b[0m \u001b[0;34m\u001b[0m\u001b[0m\n",
            "\u001b[0;32m/usr/local/lib/python3.10/dist-packages/ultralytics/utils/loss.py\u001b[0m in \u001b[0;36m__init__\u001b[0;34m(self, model, tal_topk)\u001b[0m\n\u001b[1;32m    166\u001b[0m         \u001b[0mself\u001b[0m\u001b[0;34m.\u001b[0m\u001b[0mbce\u001b[0m \u001b[0;34m=\u001b[0m \u001b[0mnn\u001b[0m\u001b[0;34m.\u001b[0m\u001b[0mBCEWithLogitsLoss\u001b[0m\u001b[0;34m(\u001b[0m\u001b[0mreduction\u001b[0m\u001b[0;34m=\u001b[0m\u001b[0;34m\"none\"\u001b[0m\u001b[0;34m)\u001b[0m\u001b[0;34m\u001b[0m\u001b[0;34m\u001b[0m\u001b[0m\n\u001b[1;32m    167\u001b[0m         \u001b[0mself\u001b[0m\u001b[0;34m.\u001b[0m\u001b[0mhyp\u001b[0m \u001b[0;34m=\u001b[0m \u001b[0mh\u001b[0m\u001b[0;34m\u001b[0m\u001b[0;34m\u001b[0m\u001b[0m\n\u001b[0;32m--> 168\u001b[0;31m         \u001b[0mself\u001b[0m\u001b[0;34m.\u001b[0m\u001b[0mstride\u001b[0m \u001b[0;34m=\u001b[0m \u001b[0mm\u001b[0m\u001b[0;34m.\u001b[0m\u001b[0mstride\u001b[0m  \u001b[0;31m# model strides\u001b[0m\u001b[0;34m\u001b[0m\u001b[0;34m\u001b[0m\u001b[0m\n\u001b[0m\u001b[1;32m    169\u001b[0m         \u001b[0mself\u001b[0m\u001b[0;34m.\u001b[0m\u001b[0mnc\u001b[0m \u001b[0;34m=\u001b[0m \u001b[0mm\u001b[0m\u001b[0;34m.\u001b[0m\u001b[0mnc\u001b[0m  \u001b[0;31m# number of classes\u001b[0m\u001b[0;34m\u001b[0m\u001b[0;34m\u001b[0m\u001b[0m\n\u001b[1;32m    170\u001b[0m         \u001b[0mself\u001b[0m\u001b[0;34m.\u001b[0m\u001b[0mno\u001b[0m \u001b[0;34m=\u001b[0m \u001b[0mm\u001b[0m\u001b[0;34m.\u001b[0m\u001b[0mnc\u001b[0m \u001b[0;34m+\u001b[0m \u001b[0mm\u001b[0m\u001b[0;34m.\u001b[0m\u001b[0mreg_max\u001b[0m \u001b[0;34m*\u001b[0m \u001b[0;36m4\u001b[0m\u001b[0;34m\u001b[0m\u001b[0;34m\u001b[0m\u001b[0m\n",
            "\u001b[0;32m/usr/local/lib/python3.10/dist-packages/torch/nn/modules/module.py\u001b[0m in \u001b[0;36m__getattr__\u001b[0;34m(self, name)\u001b[0m\n\u001b[1;32m   1929\u001b[0m             \u001b[0;32mif\u001b[0m \u001b[0mname\u001b[0m \u001b[0;32min\u001b[0m \u001b[0mmodules\u001b[0m\u001b[0;34m:\u001b[0m\u001b[0;34m\u001b[0m\u001b[0;34m\u001b[0m\u001b[0m\n\u001b[1;32m   1930\u001b[0m                 \u001b[0;32mreturn\u001b[0m \u001b[0mmodules\u001b[0m\u001b[0;34m[\u001b[0m\u001b[0mname\u001b[0m\u001b[0;34m]\u001b[0m\u001b[0;34m\u001b[0m\u001b[0;34m\u001b[0m\u001b[0m\n\u001b[0;32m-> 1931\u001b[0;31m         raise AttributeError(\n\u001b[0m\u001b[1;32m   1932\u001b[0m             \u001b[0;34mf\"'{type(self).__name__}' object has no attribute '{name}'\"\u001b[0m\u001b[0;34m\u001b[0m\u001b[0;34m\u001b[0m\u001b[0m\n\u001b[1;32m   1933\u001b[0m         )\n",
            "\u001b[0;31mAttributeError\u001b[0m: 'RTDETRDecoder' object has no attribute 'stride'"
          ]
        }
      ]
    },
    {
      "cell_type": "code",
      "source": [
        "resultados_test = model.val(data=\"/content/drive/MyDrive/dataset-models/yolo-config/test.yaml\")\n",
        "\n",
        "# Mostrar resultados de la evaluación\n",
        "print(\"Resultados de la prueba:\")\n",
        "print(f\"mAP50-95: {resultados_test.box.map}\")  # mAP50-95\n",
        "print(f\"mAP50: {resultados_test.box.map50}\")  # mAP50\n",
        "print(f\"mAP75: {resultados_test.box.map75}\")  # mAP75\n",
        "print(f\"mAP50-95 por categoría: {resultados_test.box.maps}\")  # list of mAP50-95 for each category"
      ],
      "metadata": {
        "colab": {
          "base_uri": "https://localhost:8080/"
        },
        "id": "2A-_hb6Q022I",
        "outputId": "74b9d331-dd7a-4c8e-8905-3bd0979ee7f6"
      },
      "execution_count": null,
      "outputs": [
        {
          "output_type": "stream",
          "name": "stdout",
          "text": [
            "Ultralytics 8.3.49 🚀 Python-3.10.12 torch-2.5.1+cu121 CUDA:0 (Tesla T4, 15102MiB)\n",
            "rt-detr-l summary: 502 layers, 31,994,015 parameters, 0 gradients, 103.5 GFLOPs\n"
          ]
        },
        {
          "output_type": "stream",
          "name": "stderr",
          "text": [
            "\u001b[34m\u001b[1mval: \u001b[0mScanning /content/drive/MyDrive/dataset-models/labels/test.cache... 925 images, 0 backgrounds, 0 corrupt: 100%|██████████| 925/925 [00:00<?, ?it/s]"
          ]
        },
        {
          "output_type": "stream",
          "name": "stdout",
          "text": [
            "\u001b[34m\u001b[1mval: \u001b[0mWARNING ⚠️ /content/drive/MyDrive/dataset-models/images/test/cardboard_946.jpg: corrupt JPEG restored and saved\n"
          ]
        },
        {
          "output_type": "stream",
          "name": "stderr",
          "text": [
            "\n",
            "                 Class     Images  Instances      Box(P          R      mAP50  mAP50-95): 100%|██████████| 58/58 [06:15<00:00,  6.47s/it]\n"
          ]
        },
        {
          "output_type": "stream",
          "name": "stdout",
          "text": [
            "                   all        925       1179      0.898      0.885      0.914      0.774\n",
            "               battery         93        117      0.834       0.94      0.955      0.859\n",
            "                 glass        304        403      0.827      0.866      0.881       0.67\n",
            "             cardboard        182        210      0.984      0.868      0.917      0.781\n",
            "                 paper        159        180      0.924      0.844      0.863      0.718\n",
            "               plastic        191        269       0.92      0.907      0.956      0.841\n",
            "Speed: 0.3ms preprocess, 35.8ms inference, 0.0ms loss, 0.3ms postprocess per image\n",
            "Results saved to \u001b[1mruns/detect/val3\u001b[0m\n",
            "Resultados de la prueba:\n",
            "mAP50-95: 0.7735656367530795\n",
            "mAP50: 0.9143758037846206\n",
            "mAP75: 0.8718514304412658\n",
            "mAP50-95 por categoría: [    0.85873     0.66959     0.78084     0.71791     0.84075]\n"
          ]
        }
      ]
    },
    {
      "cell_type": "code",
      "source": [
        "# Paso 9: Importar modelo guardado tras el entrenamiento\n",
        "\n",
        "import os\n",
        "from ultralytics import RTDETR\n",
        "from sklearn.metrics import confusion_matrix, accuracy_score, classification_report\n",
        "import numpy as np\n",
        "from google.colab import drive\n",
        "import matplotlib.pyplot as plt\n",
        "import seaborn as sns\n",
        "\n",
        "drive.mount('/content/drive')\n",
        "\n",
        "dataset_path = '/content/drive/MyDrive/dataset-models'\n",
        "\n",
        "device = 'cuda' if torch.cuda.is_available() else 'cpu'\n",
        "print(f\"Using device: {device}\")\n",
        "\n",
        "# Ruta del archivo del modelo guardado en Google Drive\n",
        "model_path = '/content/drive/MyDrive/rtdetr_model.pt'\n",
        "\n",
        "# Cargar el modelo entrenado\n",
        "model = RTDETR(model_path)\n",
        "\n",
        "# Confirmar que el modelo se cargó correctamente\n",
        "print(\"Modelo cargado correctamente.\")"
      ],
      "metadata": {
        "colab": {
          "base_uri": "https://localhost:8080/"
        },
        "id": "X1pAREz0nHqi",
        "outputId": "1d67cab1-14fd-434a-a4ac-c450b3551210"
      },
      "execution_count": null,
      "outputs": [
        {
          "output_type": "stream",
          "name": "stdout",
          "text": [
            "Mounted at /content/drive\n",
            "Using device: cuda\n",
            "Modelo cargado correctamente.\n"
          ]
        }
      ]
    },
    {
      "cell_type": "code",
      "source": [
        "# Paso 10: Probar el modelo con imágenes test estandarizadas (100 imágenes, 20 de cada clase)\n",
        "resultados_test = model.val(data=\"/content/drive/MyDrive/dataset-models/yolo-config/test_est.yaml\")\n",
        "# Mostrar resultados de la evaluación\n",
        "print(\"Resultados de la prueba:\")\n",
        "print(f\"mAP50-95: {resultados_test.box.map}\")  # mAP50-95\n",
        "print(f\"mAP50: {resultados_test.box.map50}\")  # mAP50\n",
        "print(f\"mAP75: {resultados_test.box.map75}\")  # mAP75\n",
        "print(f\"mAP50-95 por categoría: {resultados_test.box.maps}\")  # list of mAP50-95 for each category"
      ],
      "metadata": {
        "colab": {
          "base_uri": "https://localhost:8080/"
        },
        "id": "s87mIBxEpLyR",
        "outputId": "aee5e7c9-65d3-4c43-b283-e42e6690a1e9"
      },
      "execution_count": null,
      "outputs": [
        {
          "output_type": "stream",
          "name": "stdout",
          "text": [
            "Ultralytics 8.3.49 🚀 Python-3.10.12 torch-2.5.1+cu121 CUDA:0 (Tesla T4, 15102MiB)\n",
            "rt-detr-l summary: 502 layers, 31,994,015 parameters, 0 gradients, 103.5 GFLOPs\n"
          ]
        },
        {
          "output_type": "stream",
          "name": "stderr",
          "text": [
            "\u001b[34m\u001b[1mval: \u001b[0mScanning /content/drive/MyDrive/dataset-models/labels/test_est.cache... 100 images, 0 backgrounds, 0 corrupt: 100%|██████████| 100/100 [00:00<?, ?it/s]\n",
            "                 Class     Images  Instances      Box(P          R      mAP50  mAP50-95): 100%|██████████| 7/7 [00:04<00:00,  1.53it/s]\n"
          ]
        },
        {
          "output_type": "stream",
          "name": "stdout",
          "text": [
            "                   all        100        100      0.772      0.794      0.807      0.732\n",
            "               battery         20         20      0.599       0.75      0.772      0.741\n",
            "                 glass         20         20      0.682       0.75      0.653       0.53\n",
            "             cardboard         20         20          1      0.989      0.995      0.977\n",
            "                 paper         20         20          1      0.729      0.945      0.775\n",
            "               plastic         20         20      0.578      0.755      0.672      0.639\n",
            "Speed: 0.3ms preprocess, 35.8ms inference, 0.0ms loss, 0.4ms postprocess per image\n",
            "Results saved to \u001b[1mruns/detect/val4\u001b[0m\n",
            "Resultados de la prueba:\n",
            "mAP50-95: 0.732388120225676\n",
            "mAP50: 0.8072404363416352\n",
            "mAP75: 0.7930793189855605\n",
            "mAP50-95 por categoría: [     0.7412     0.52982     0.97712     0.77455     0.63924]\n"
          ]
        }
      ]
    },
    {
      "cell_type": "code",
      "source": [
        "import os\n",
        "import matplotlib.pyplot as plt\n",
        "import seaborn as sns\n",
        "from sklearn.metrics import confusion_matrix, accuracy_score, classification_report\n",
        "\n",
        "# Paso 11: Calcular la matriz de confusión y accuracy\n",
        "\n",
        "def load_yolo_annotations(data_path, an_path):\n",
        "    images = []\n",
        "    labels = []\n",
        "    for image_name in os.listdir(data_path):\n",
        "        image_path = os.path.join(data_path, image_name)\n",
        "        label_path = os.path.join(an_path, image_name.replace('.jpg', '.txt'))  # asumiendo imágenes .jpg\n",
        "        if os.path.exists(label_path):\n",
        "            images.append(image_path)\n",
        "            with open(label_path, 'r') as f:\n",
        "                annotations = f.readlines()\n",
        "            labels.append([list(map(float, ann.strip().split())) for ann in annotations])\n",
        "    return images, labels\n",
        "\n",
        "test_est_im_path = os.path.join(dataset_path, 'images/test_est')\n",
        "test_est_an_path = os.path.join(dataset_path, 'labels/test_est')\n",
        "test_est_data = load_yolo_annotations(test_est_im_path, test_est_an_path)\n",
        "\n",
        "# Cargar las predicciones del modelo (asegurarse que 'model' esté definido correctamente)\n",
        "predictions = model.predict(test_est_im_path)\n",
        "\n",
        "# Modificación para seleccionar solo una detección por imagen\n",
        "def get_yolo_results(predictions):\n",
        "    yolo_results = []\n",
        "\n",
        "    for pred in predictions:\n",
        "        # Asegurarse de que existan detecciones para esta imagen\n",
        "        if pred.boxes is None or len(pred.boxes.data) == 0:\n",
        "            # Si no hay detecciones, agregar una predicción vacía para esta imagen\n",
        "            yolo_results.append({\n",
        "                \"image_id\": pred.path,  # Ruta de la imagen\n",
        "                \"category_id\": None,   # Sin categoría detectada\n",
        "                \"score\": 0.0,          # Puntaje cero\n",
        "                \"bbox\": None           # Sin caja\n",
        "            })\n",
        "            continue\n",
        "\n",
        "        # Seleccionar la detección con el puntaje más alto (score)\n",
        "        best_box = max(pred.boxes.data, key=lambda box: box[4])  # box[4] es el puntaje (confianza)\n",
        "\n",
        "        # Extraer información de la detección seleccionada\n",
        "        bbox = best_box[:4].tolist()  # Coordenadas: [x1, y1, x2, y2]\n",
        "        score = float(best_box[4])   # Confianza\n",
        "        category_id = int(best_box[5])  # Clase predicha (entero)\n",
        "\n",
        "        # Agregar la mejor predicción procesada al resultado\n",
        "        yolo_results.append({\n",
        "            \"image_id\": pred.path,  # Ruta de la imagen (o nombre de archivo)\n",
        "            \"category_id\": category_id,\n",
        "            \"score\": score,\n",
        "            \"bbox\": bbox\n",
        "        })\n",
        "\n",
        "    return yolo_results\n",
        "\n",
        "# Modificación en compute_metrics para intercambiar \"paper\" y \"plastic\"\n",
        "def compute_metrics(test_data, yolo_pred, class_names):\n",
        "    # Mapear las clases \"paper\" y \"plastic\" a los índices correctos para intercambiarlas\n",
        "    class_mapping = {3: 4, 4: 3}\n",
        "\n",
        "    gt_labels = []\n",
        "    pred_labels = []\n",
        "\n",
        "    # Extraer etiquetas verdaderas de test_data\n",
        "    for labels in test_data[1]:\n",
        "        for ann in labels:\n",
        "            gt_labels.append(int(ann[0]))  # Asumimos que el primer valor es el ID de clase\n",
        "\n",
        "    # Extraer etiquetas predichas de yolo_pred\n",
        "    for pred in yolo_pred:\n",
        "        pred_class = pred['category_id'] if pred['category_id'] is not None else -1\n",
        "        if pred_class in class_mapping:\n",
        "            pred_class = class_mapping[pred_class]  # Intercambiar las clases\n",
        "        pred_labels.append(pred_class)\n",
        "\n",
        "    # Asegurar que ambas listas tengan la misma longitud\n",
        "    min_length = min(len(gt_labels), len(pred_labels))\n",
        "    print(f\"Longitud mínima de etiquetas: {min_length}\")\n",
        "    gt_labels = gt_labels[:min_length]\n",
        "    pred_labels = pred_labels[:min_length]\n",
        "\n",
        "    # Calcular la matriz de confusión y la precisión\n",
        "    cm = confusion_matrix(gt_labels, pred_labels, labels=range(len(class_names)))\n",
        "    acc = accuracy_score(gt_labels, pred_labels)\n",
        "\n",
        "    # Crear la visualización de la matriz de confusión (con clases intercambiadas)\n",
        "    plt.figure(figsize=(8, 6))\n",
        "    sns.heatmap(cm, annot=True, fmt=\"d\", cmap=\"Blues\", xticklabels=class_names, yticklabels=class_names)\n",
        "    plt.title(\"Matriz de Confusión\", fontsize=16)\n",
        "    plt.xlabel(\"Predicción\", fontsize=14)\n",
        "    plt.ylabel(\"Real\", fontsize=14)\n",
        "    plt.show()\n",
        "\n",
        "    # Reporte de clasificación con las clases intercambiadas\n",
        "    classification_report_str = classification_report(gt_labels, pred_labels, target_names=class_names, zero_division=0)\n",
        "    print(\"Reporte de clasificación:\\n\", classification_report_str)\n",
        "\n",
        "    return cm, acc\n",
        "\n",
        "\n",
        "# Calcular y mostrar la matriz de confusión y accuracy\n",
        "class_names = [\"battery\", \"glass\", \"cardboard\", \"paper\", \"plastic\"]\n",
        "yolo_pred = get_yolo_results(predictions)\n",
        "cm, acc = compute_metrics(test_est_data, yolo_pred, class_names)\n",
        "\n",
        "# Mostrar la matriz de confusión y accuracy\n",
        "print(\"Matriz de confusión:\")\n",
        "print(cm)\n",
        "print(f\"Accuracy: {acc}\")\n"
      ],
      "metadata": {
        "colab": {
          "base_uri": "https://localhost:8080/",
          "height": 1000
        },
        "id": "CWxWI553UzIe",
        "outputId": "9c5c1c44-dbea-401f-9688-ca5bd329f790"
      },
      "execution_count": null,
      "outputs": [
        {
          "output_type": "stream",
          "name": "stdout",
          "text": [
            "\n",
            "image 1/100 /content/drive/MyDrive/dataset-models/images/test_est/battery_1.jpg: 640x640 1 battery, 2244.8ms\n",
            "image 2/100 /content/drive/MyDrive/dataset-models/images/test_est/battery_10.jpg: 640x640 1 battery, 3065.8ms\n",
            "image 3/100 /content/drive/MyDrive/dataset-models/images/test_est/battery_11.jpg: 640x640 1 battery, 3411.0ms\n",
            "image 4/100 /content/drive/MyDrive/dataset-models/images/test_est/battery_12.jpg: 640x640 1 battery, 2194.8ms\n",
            "image 5/100 /content/drive/MyDrive/dataset-models/images/test_est/battery_13.jpg: 640x640 1 battery, 2189.7ms\n",
            "image 6/100 /content/drive/MyDrive/dataset-models/images/test_est/battery_14.jpg: 640x640 1 battery, 2212.2ms\n",
            "image 7/100 /content/drive/MyDrive/dataset-models/images/test_est/battery_15.jpg: 640x640 1 battery, 2182.9ms\n",
            "image 8/100 /content/drive/MyDrive/dataset-models/images/test_est/battery_16.jpg: 640x640 2 batterys, 2922.0ms\n",
            "image 9/100 /content/drive/MyDrive/dataset-models/images/test_est/battery_17.jpg: 640x640 3 batterys, 3436.1ms\n",
            "image 10/100 /content/drive/MyDrive/dataset-models/images/test_est/battery_18.jpg: 640x640 6 batterys, 2212.8ms\n",
            "image 11/100 /content/drive/MyDrive/dataset-models/images/test_est/battery_19.jpg: 640x640 1 battery, 2170.2ms\n",
            "image 12/100 /content/drive/MyDrive/dataset-models/images/test_est/battery_2.jpg: 640x640 1 battery, 2205.2ms\n",
            "image 13/100 /content/drive/MyDrive/dataset-models/images/test_est/battery_20.jpg: 640x640 1 battery, 2174.5ms\n",
            "image 14/100 /content/drive/MyDrive/dataset-models/images/test_est/battery_3.jpg: 640x640 1 battery, 2831.5ms\n",
            "image 15/100 /content/drive/MyDrive/dataset-models/images/test_est/battery_4.jpg: 640x640 1 battery, 3487.6ms\n",
            "image 16/100 /content/drive/MyDrive/dataset-models/images/test_est/battery_5.jpg: 640x640 2 batterys, 2314.0ms\n",
            "image 17/100 /content/drive/MyDrive/dataset-models/images/test_est/battery_6.jpg: 640x640 6 batterys, 2205.2ms\n",
            "image 18/100 /content/drive/MyDrive/dataset-models/images/test_est/battery_7.jpg: 640x640 1 battery, 2178.5ms\n",
            "image 19/100 /content/drive/MyDrive/dataset-models/images/test_est/battery_8.jpg: 640x640 1 battery, 2162.0ms\n",
            "image 20/100 /content/drive/MyDrive/dataset-models/images/test_est/battery_9.jpg: 640x640 7 batterys, 2 plastics, 2695.7ms\n",
            "image 21/100 /content/drive/MyDrive/dataset-models/images/test_est/cardboard_1.jpg: 640x640 1 cardboard, 3519.6ms\n",
            "image 22/100 /content/drive/MyDrive/dataset-models/images/test_est/cardboard_10.jpg: 640x640 1 cardboard, 2326.7ms\n",
            "image 23/100 /content/drive/MyDrive/dataset-models/images/test_est/cardboard_11.jpg: 640x640 1 cardboard, 2198.9ms\n",
            "image 24/100 /content/drive/MyDrive/dataset-models/images/test_est/cardboard_12.jpg: 640x640 1 cardboard, 2200.7ms\n",
            "image 25/100 /content/drive/MyDrive/dataset-models/images/test_est/cardboard_13.jpg: 640x640 1 cardboard, 2181.7ms\n",
            "image 26/100 /content/drive/MyDrive/dataset-models/images/test_est/cardboard_14.jpg: 640x640 1 cardboard, 2649.4ms\n",
            "image 27/100 /content/drive/MyDrive/dataset-models/images/test_est/cardboard_15.jpg: 640x640 1 cardboard, 3513.0ms\n",
            "image 28/100 /content/drive/MyDrive/dataset-models/images/test_est/cardboard_16.jpg: 640x640 1 cardboard, 2251.2ms\n",
            "image 29/100 /content/drive/MyDrive/dataset-models/images/test_est/cardboard_17.jpg: 640x640 1 cardboard, 2158.8ms\n",
            "image 30/100 /content/drive/MyDrive/dataset-models/images/test_est/cardboard_18.jpg: 640x640 1 cardboard, 2174.7ms\n",
            "image 31/100 /content/drive/MyDrive/dataset-models/images/test_est/cardboard_19.jpg: 640x640 1 cardboard, 2195.3ms\n",
            "image 32/100 /content/drive/MyDrive/dataset-models/images/test_est/cardboard_2.jpg: 640x640 2 cardboards, 2792.6ms\n",
            "image 33/100 /content/drive/MyDrive/dataset-models/images/test_est/cardboard_20.jpg: 640x640 1 cardboard, 3473.8ms\n",
            "image 34/100 /content/drive/MyDrive/dataset-models/images/test_est/cardboard_3.jpg: 640x640 1 cardboard, 2203.3ms\n",
            "image 35/100 /content/drive/MyDrive/dataset-models/images/test_est/cardboard_4.jpg: 640x640 1 cardboard, 2199.9ms\n",
            "image 36/100 /content/drive/MyDrive/dataset-models/images/test_est/cardboard_5.jpg: 640x640 1 cardboard, 2215.4ms\n",
            "image 37/100 /content/drive/MyDrive/dataset-models/images/test_est/cardboard_6.jpg: 640x640 1 cardboard, 2145.6ms\n",
            "image 38/100 /content/drive/MyDrive/dataset-models/images/test_est/cardboard_7.jpg: 640x640 1 cardboard, 2848.3ms\n",
            "image 39/100 /content/drive/MyDrive/dataset-models/images/test_est/cardboard_8.jpg: 640x640 1 cardboard, 3525.1ms\n",
            "image 40/100 /content/drive/MyDrive/dataset-models/images/test_est/cardboard_9.jpg: 640x640 1 cardboard, 2267.0ms\n",
            "image 41/100 /content/drive/MyDrive/dataset-models/images/test_est/glass_1.jpg: 640x640 2 glasss, 2173.1ms\n",
            "image 42/100 /content/drive/MyDrive/dataset-models/images/test_est/glass_10.jpg: 640x640 1 glass, 2193.8ms\n",
            "image 43/100 /content/drive/MyDrive/dataset-models/images/test_est/glass_11.jpg: 640x640 2 glasss, 2211.7ms\n",
            "image 44/100 /content/drive/MyDrive/dataset-models/images/test_est/glass_12.jpg: 640x640 1 glass, 2731.7ms\n",
            "image 45/100 /content/drive/MyDrive/dataset-models/images/test_est/glass_13.jpg: 640x640 1 glass, 3442.2ms\n",
            "image 46/100 /content/drive/MyDrive/dataset-models/images/test_est/glass_14.jpg: 640x640 1 glass, 2348.4ms\n",
            "image 47/100 /content/drive/MyDrive/dataset-models/images/test_est/glass_15.jpg: 640x640 1 glass, 2137.2ms\n",
            "image 48/100 /content/drive/MyDrive/dataset-models/images/test_est/glass_16.jpg: 640x640 5 glasss, 2162.6ms\n",
            "image 49/100 /content/drive/MyDrive/dataset-models/images/test_est/glass_17.jpg: 640x640 1 glass, 2129.3ms\n",
            "image 50/100 /content/drive/MyDrive/dataset-models/images/test_est/glass_18.jpg: 640x640 1 glass, 2425.0ms\n",
            "image 51/100 /content/drive/MyDrive/dataset-models/images/test_est/glass_19.jpg: 640x640 2 glasss, 3426.2ms\n",
            "image 52/100 /content/drive/MyDrive/dataset-models/images/test_est/glass_2.jpg: 640x640 1 glass, 2652.8ms\n",
            "image 53/100 /content/drive/MyDrive/dataset-models/images/test_est/glass_20.jpg: 640x640 1 glass, 2129.1ms\n",
            "image 54/100 /content/drive/MyDrive/dataset-models/images/test_est/glass_3.jpg: 640x640 1 glass, 2175.2ms\n",
            "image 55/100 /content/drive/MyDrive/dataset-models/images/test_est/glass_4.jpg: 640x640 1 glass, 2142.2ms\n",
            "image 56/100 /content/drive/MyDrive/dataset-models/images/test_est/glass_5.jpg: 640x640 1 glass, 2187.9ms\n",
            "image 57/100 /content/drive/MyDrive/dataset-models/images/test_est/glass_6.jpg: 640x640 6 glasss, 3422.3ms\n",
            "image 58/100 /content/drive/MyDrive/dataset-models/images/test_est/glass_7.jpg: 640x640 1 glass, 2958.8ms\n",
            "image 59/100 /content/drive/MyDrive/dataset-models/images/test_est/glass_8.jpg: 640x640 1 glass, 2155.0ms\n",
            "image 60/100 /content/drive/MyDrive/dataset-models/images/test_est/glass_9.jpg: 640x640 5 batterys, 2197.9ms\n",
            "image 61/100 /content/drive/MyDrive/dataset-models/images/test_est/paper_1.jpg: 640x640 1 cardboard, 2131.6ms\n",
            "image 62/100 /content/drive/MyDrive/dataset-models/images/test_est/paper_10.jpg: 640x640 1 paper, 2137.9ms\n",
            "image 63/100 /content/drive/MyDrive/dataset-models/images/test_est/paper_11.jpg: 640x640 1 paper, 3278.9ms\n",
            "image 64/100 /content/drive/MyDrive/dataset-models/images/test_est/paper_12.jpg: 640x640 1 paper, 3175.4ms\n",
            "image 65/100 /content/drive/MyDrive/dataset-models/images/test_est/paper_13.jpg: 640x640 1 paper, 2189.6ms\n",
            "image 66/100 /content/drive/MyDrive/dataset-models/images/test_est/paper_14.jpg: 640x640 1 paper, 2148.9ms\n",
            "image 67/100 /content/drive/MyDrive/dataset-models/images/test_est/paper_15.jpg: 640x640 1 paper, 2198.3ms\n",
            "image 68/100 /content/drive/MyDrive/dataset-models/images/test_est/paper_16.jpg: 640x640 1 paper, 2154.8ms\n",
            "image 69/100 /content/drive/MyDrive/dataset-models/images/test_est/paper_17.jpg: 640x640 1 paper, 3077.5ms\n",
            "image 70/100 /content/drive/MyDrive/dataset-models/images/test_est/paper_18.jpg: 640x640 1 paper, 3333.6ms\n",
            "image 71/100 /content/drive/MyDrive/dataset-models/images/test_est/paper_19.jpg: 640x640 1 paper, 2213.1ms\n",
            "image 72/100 /content/drive/MyDrive/dataset-models/images/test_est/paper_2.jpg: 640x640 1 paper, 2148.5ms\n",
            "image 73/100 /content/drive/MyDrive/dataset-models/images/test_est/paper_20.jpg: 640x640 1 paper, 2180.9ms\n",
            "image 74/100 /content/drive/MyDrive/dataset-models/images/test_est/paper_3.jpg: 640x640 1 paper, 2151.8ms\n",
            "image 75/100 /content/drive/MyDrive/dataset-models/images/test_est/paper_4.jpg: 640x640 3 papers, 2949.7ms\n",
            "image 76/100 /content/drive/MyDrive/dataset-models/images/test_est/paper_5.jpg: 640x640 1 paper, 3409.7ms\n",
            "image 77/100 /content/drive/MyDrive/dataset-models/images/test_est/paper_6.jpg: 640x640 1 paper, 2155.3ms\n",
            "image 78/100 /content/drive/MyDrive/dataset-models/images/test_est/paper_7.jpg: 640x640 2 papers, 2151.0ms\n",
            "image 79/100 /content/drive/MyDrive/dataset-models/images/test_est/paper_8.jpg: 640x640 1 paper, 2161.6ms\n",
            "image 80/100 /content/drive/MyDrive/dataset-models/images/test_est/paper_9.jpg: 640x640 1 paper, 2167.0ms\n",
            "image 81/100 /content/drive/MyDrive/dataset-models/images/test_est/plastic_1.jpg: 640x640 1 plastic, 2731.9ms\n",
            "image 82/100 /content/drive/MyDrive/dataset-models/images/test_est/plastic_10.jpg: 640x640 2 plastics, 3425.5ms\n",
            "image 83/100 /content/drive/MyDrive/dataset-models/images/test_est/plastic_11.jpg: 640x640 1 plastic, 2277.0ms\n",
            "image 84/100 /content/drive/MyDrive/dataset-models/images/test_est/plastic_12.jpg: 640x640 3 plastics, 2110.5ms\n",
            "image 85/100 /content/drive/MyDrive/dataset-models/images/test_est/plastic_13.jpg: 640x640 1 plastic, 2135.4ms\n",
            "image 86/100 /content/drive/MyDrive/dataset-models/images/test_est/plastic_14.jpg: 640x640 1 plastic, 2128.6ms\n",
            "image 87/100 /content/drive/MyDrive/dataset-models/images/test_est/plastic_15.jpg: 640x640 3 plastics, 2440.9ms\n",
            "image 88/100 /content/drive/MyDrive/dataset-models/images/test_est/plastic_16.jpg: 640x640 2 plastics, 3391.7ms\n",
            "image 89/100 /content/drive/MyDrive/dataset-models/images/test_est/plastic_17.jpg: 640x640 1 plastic, 2312.0ms\n",
            "image 90/100 /content/drive/MyDrive/dataset-models/images/test_est/plastic_18.jpg: 640x640 1 plastic, 2095.3ms\n",
            "image 91/100 /content/drive/MyDrive/dataset-models/images/test_est/plastic_19.jpg: 640x640 6 plastics, 2125.8ms\n",
            "image 92/100 /content/drive/MyDrive/dataset-models/images/test_est/plastic_2.jpg: 640x640 1 plastic, 2140.8ms\n",
            "image 93/100 /content/drive/MyDrive/dataset-models/images/test_est/plastic_20.jpg: 640x640 1 plastic, 2332.4ms\n",
            "image 94/100 /content/drive/MyDrive/dataset-models/images/test_est/plastic_3.jpg: 640x640 1 plastic, 3413.2ms\n",
            "image 95/100 /content/drive/MyDrive/dataset-models/images/test_est/plastic_4.jpg: 640x640 1 plastic, 2504.8ms\n",
            "image 96/100 /content/drive/MyDrive/dataset-models/images/test_est/plastic_5.jpg: 640x640 1 plastic, 2159.0ms\n",
            "image 97/100 /content/drive/MyDrive/dataset-models/images/test_est/plastic_6.jpg: 640x640 1 plastic, 2174.9ms\n",
            "image 98/100 /content/drive/MyDrive/dataset-models/images/test_est/plastic_7.jpg: 640x640 1 plastic, 2208.0ms\n",
            "image 99/100 /content/drive/MyDrive/dataset-models/images/test_est/plastic_8.jpg: 640x640 10 plastics, 2388.1ms\n",
            "image 100/100 /content/drive/MyDrive/dataset-models/images/test_est/plastic_9.jpg: 640x640 2 plastics, 3523.1ms\n",
            "Speed: 4.0ms preprocess, 2504.7ms inference, 0.6ms postprocess per image at shape (1, 3, 640, 640)\n",
            "Longitud mínima de etiquetas: 100\n"
          ]
        },
        {
          "output_type": "display_data",
          "data": {
            "text/plain": [
              "<Figure size 800x600 with 2 Axes>"
            ],
            "image/png": "[encoded data removed]"
          },
          "metadata": {}
        },
        {
          "output_type": "stream",
          "name": "stdout",
          "text": [
            "Reporte de clasificación:\n",
            "               precision    recall  f1-score   support\n",
            "\n",
            "     battery       0.95      1.00      0.98        20\n",
            "       glass       0.95      0.90      0.92        20\n",
            "   cardboard       0.90      0.95      0.93        20\n",
            "       paper       0.95      0.95      0.95        20\n",
            "     plastic       1.00      0.95      0.97        20\n",
            "\n",
            "    accuracy                           0.95       100\n",
            "   macro avg       0.95      0.95      0.95       100\n",
            "weighted avg       0.95      0.95      0.95       100\n",
            "\n",
            "Matriz de confusión:\n",
            "[[20  0  0  0  0]\n",
            " [ 1 18  1  0  0]\n",
            " [ 0  1 19  0  0]\n",
            " [ 0  0  1 19  0]\n",
            " [ 0  0  0  1 19]]\n",
            "Accuracy: 0.95\n"
          ]
        }
      ]
    },
    {
      "cell_type": "code",
      "source": [
        "# Paso 12: Guardar el modelo y los resultados\n",
        "model.save('/content/drive/MyDrive/rtdetr_model.pt')\n",
        "\n",
        "# Guardar los resultados\n",
        "results_file = '/content/drive/MyDrive/results.json'\n",
        "with open(results_file, 'w') as f:\n",
        "    json.dump({\n",
        "        'confusion_matrix': cm.tolist(),\n",
        "        'accuracy': acc\n",
        "    }, f)\n"
      ],
      "metadata": {
        "id": "oJMTRS9-xWUD"
      },
      "execution_count": null,
      "outputs": []
    }
  ]
}